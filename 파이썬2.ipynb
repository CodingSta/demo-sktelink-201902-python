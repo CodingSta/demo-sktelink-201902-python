{
 "cells": [
  {
   "cell_type": "code",
   "execution_count": 1,
   "metadata": {},
   "outputs": [],
   "source": [
    "TOKEN = \"**************\"  # FIXME: 각자의 Token 값으로 변경"
   ]
  },
  {
   "cell_type": "code",
   "execution_count": 2,
   "metadata": {},
   "outputs": [
    {
     "name": "stdout",
     "output_type": "stream",
     "text": [
      "Requirement already satisfied: python-telegram-bot in /Users/allieus/anaconda3/lib/python3.7/site-packages (11.1.0)\n",
      "Requirement already satisfied: certifi in /Users/allieus/anaconda3/lib/python3.7/site-packages (from python-telegram-bot) (2018.11.29)\n",
      "Requirement already satisfied: cryptography in /Users/allieus/anaconda3/lib/python3.7/site-packages (from python-telegram-bot) (2.3.1)\n",
      "Requirement already satisfied: future>=0.16.0 in /Users/allieus/anaconda3/lib/python3.7/site-packages (from python-telegram-bot) (0.17.1)\n",
      "Requirement already satisfied: idna>=2.1 in /Users/allieus/anaconda3/lib/python3.7/site-packages (from cryptography->python-telegram-bot) (2.7)\n",
      "Requirement already satisfied: asn1crypto>=0.21.0 in /Users/allieus/anaconda3/lib/python3.7/site-packages (from cryptography->python-telegram-bot) (0.24.0)\n",
      "Requirement already satisfied: six>=1.4.1 in /Users/allieus/anaconda3/lib/python3.7/site-packages (from cryptography->python-telegram-bot) (1.11.0)\n",
      "Requirement already satisfied: cffi!=1.11.3,>=1.7 in /Users/allieus/anaconda3/lib/python3.7/site-packages (from cryptography->python-telegram-bot) (1.11.5)\n",
      "Requirement already satisfied: pycparser in /Users/allieus/anaconda3/lib/python3.7/site-packages (from cffi!=1.11.3,>=1.7->cryptography->python-telegram-bot) (2.18)\n",
      "\u001b[31mtwisted 18.7.0 requires PyHamcrest>=1.9.0, which is not installed.\u001b[0m\n",
      "\u001b[33mYou are using pip version 10.0.1, however version 19.0.2 is available.\n",
      "You should consider upgrading via the 'pip install --upgrade pip' command.\u001b[0m\n"
     ]
    }
   ],
   "source": [
    "!pip install python-telegram-bot"
   ]
  },
  {
   "cell_type": "code",
   "execution_count": 3,
   "metadata": {},
   "outputs": [],
   "source": [
    "import telegram"
   ]
  },
  {
   "cell_type": "code",
   "execution_count": 4,
   "metadata": {},
   "outputs": [],
   "source": [
    "bot = telegram.Bot(token=TOKEN)"
   ]
  },
  {
   "cell_type": "code",
   "execution_count": 10,
   "metadata": {},
   "outputs": [
    {
     "name": "stdout",
     "output_type": "stream",
     "text": [
      "chat_id : 42478249\n",
      "{'update_id': 893430766, 'message': {'message_id': 287, 'date': 1549949650, 'chat': {'id': 42478249, 'type': 'private', 'username': 'allieus', 'first_name': 'Chinseok'}, 'text': 'hello', 'entities': [], 'caption_entities': [], 'photo': [], 'new_chat_members': [], 'new_chat_photo': [], 'delete_chat_photo': False, 'group_chat_created': False, 'supergroup_chat_created': False, 'channel_chat_created': False, 'from': {'id': 42478249, 'first_name': 'Chinseok', 'is_bot': False, 'username': 'allieus', 'language_code': 'ko'}}}\n"
     ]
    }
   ],
   "source": [
    "for update in bot.getUpdates():\n",
    "    print('chat_id :', update.message.chat_id)\n",
    "    print(update)"
   ]
  },
  {
   "cell_type": "code",
   "execution_count": 11,
   "metadata": {},
   "outputs": [],
   "source": [
    "chat_id = \"42478249\"  # FIXME: 각자의 대화방 아이디를 입력해주세요."
   ]
  },
  {
   "cell_type": "code",
   "execution_count": 12,
   "metadata": {},
   "outputs": [
    {
     "data": {
      "text/plain": [
       "<telegram.message.Message at 0x10f725668>"
      ]
     },
     "execution_count": 12,
     "metadata": {},
     "output_type": "execute_result"
    }
   ],
   "source": [
    "bot.sendMessage(chat_id=chat_id, text=\"안녕 ~~~\")"
   ]
  },
  {
   "cell_type": "code",
   "execution_count": 16,
   "metadata": {},
   "outputs": [
    {
     "data": {
      "text/plain": [
       "<telegram.message.Message at 0x10f64cc18>"
      ]
     },
     "execution_count": 16,
     "metadata": {},
     "output_type": "execute_result"
    }
   ],
   "source": [
    "메세지 = \"\"\"\n",
    "마음의 소리\n",
    "https://comic.naver.com/webtoon/list.nhn?titleId=20853&weekday=tue\n",
    "\n",
    "사이드 킥\n",
    "https://comic.naver.com/webtoon/list.nhn?titleId=642653&weekday=tue\n",
    "\n",
    "신도림\n",
    "https://comic.naver.com/webtoon/list.nhn?titleId=683496&weekday=tue\n",
    "\"\"\"\n",
    "\n",
    "bot.sendMessage(chat_id=chat_id, text=메세지)"
   ]
  },
  {
   "cell_type": "markdown",
   "metadata": {},
   "source": [
    "## 기본 자료구조"
   ]
  },
  {
   "cell_type": "code",
   "execution_count": 2,
   "metadata": {},
   "outputs": [
    {
     "data": {
      "text/plain": [
       "'Hello World'"
      ]
     },
     "execution_count": 2,
     "metadata": {},
     "output_type": "execute_result"
    }
   ],
   "source": [
    "\"Hello World\"  # 문자열도 목록이다."
   ]
  },
  {
   "cell_type": "code",
   "execution_count": 4,
   "metadata": {},
   "outputs": [],
   "source": [
    "멜론_TOP5_가수_리스트 = [\"우디\", \"엠씨더맥스\", \"이소라\", \"청하\", \"폴킴\"]"
   ]
  },
  {
   "cell_type": "code",
   "execution_count": 5,
   "metadata": {},
   "outputs": [
    {
     "data": {
      "text/plain": [
       "'우디'"
      ]
     },
     "execution_count": 5,
     "metadata": {},
     "output_type": "execute_result"
    }
   ],
   "source": [
    "멜론_TOP5_가수_리스트[0]  # 제일 처음 : 0번 인덱스"
   ]
  },
  {
   "cell_type": "code",
   "execution_count": 6,
   "metadata": {},
   "outputs": [
    {
     "data": {
      "text/plain": [
       "'폴킴'"
      ]
     },
     "execution_count": 6,
     "metadata": {},
     "output_type": "execute_result"
    }
   ],
   "source": [
    "멜론_TOP5_가수_리스트[4]  # 끝"
   ]
  },
  {
   "cell_type": "code",
   "execution_count": 9,
   "metadata": {},
   "outputs": [
    {
     "data": {
      "text/plain": [
       "'폴킴'"
      ]
     },
     "execution_count": 9,
     "metadata": {},
     "output_type": "execute_result"
    }
   ],
   "source": [
    "마지막_인덱스 = len(멜론_TOP5_가수_리스트) - 1\n",
    "멜론_TOP5_가수_리스트[마지막_인덱스]"
   ]
  },
  {
   "cell_type": "code",
   "execution_count": 11,
   "metadata": {},
   "outputs": [
    {
     "data": {
      "text/plain": [
       "'폴킴'"
      ]
     },
     "execution_count": 11,
     "metadata": {},
     "output_type": "execute_result"
    }
   ],
   "source": [
    "멜론_TOP5_가수_리스트[-1]"
   ]
  },
  {
   "cell_type": "markdown",
   "metadata": {},
   "source": [
    "끝에 추가"
   ]
  },
  {
   "cell_type": "code",
   "execution_count": 12,
   "metadata": {},
   "outputs": [
    {
     "data": {
      "text/plain": [
       "['우디', '엠씨더맥스', '이소라', '청하', '폴킴', '영비']"
      ]
     },
     "execution_count": 12,
     "metadata": {},
     "output_type": "execute_result"
    }
   ],
   "source": [
    "멜론_TOP5_가수_리스트.append('영비')\n",
    "멜론_TOP5_가수_리스트"
   ]
  },
  {
   "cell_type": "markdown",
   "metadata": {},
   "source": [
    "원하는 인덱스에 추가"
   ]
  },
  {
   "cell_type": "code",
   "execution_count": 13,
   "metadata": {},
   "outputs": [
    {
     "data": {
      "text/plain": [
       "['우디', '송민호', '엠씨더맥스', '이소라', '청하', '폴킴', '영비']"
      ]
     },
     "execution_count": 13,
     "metadata": {},
     "output_type": "execute_result"
    }
   ],
   "source": [
    "멜론_TOP5_가수_리스트.insert(1, '송민호')\n",
    "멜론_TOP5_가수_리스트"
   ]
  },
  {
   "cell_type": "markdown",
   "metadata": {},
   "source": [
    "원하는 인덱스의 값을 변경"
   ]
  },
  {
   "cell_type": "code",
   "execution_count": 15,
   "metadata": {},
   "outputs": [
    {
     "data": {
      "text/plain": [
       "['EXO', '송민호', '엠씨더맥스', '이소라', '청하', '폴킴', '영비']"
      ]
     },
     "execution_count": 15,
     "metadata": {},
     "output_type": "execute_result"
    }
   ],
   "source": [
    "멜론_TOP5_가수_리스트[0] = 'EXO'\n",
    "멜론_TOP5_가수_리스트"
   ]
  },
  {
   "cell_type": "markdown",
   "metadata": {},
   "source": [
    "여러 값을 추가하고 싶을 경우"
   ]
  },
  {
   "cell_type": "code",
   "execution_count": 16,
   "metadata": {},
   "outputs": [
    {
     "data": {
      "text/plain": [
       "['EXO', '송민호', '엠씨더맥스', '이소라', '청하', '폴킴', '영비', '케이윌', '트와이스']"
      ]
     },
     "execution_count": 16,
     "metadata": {},
     "output_type": "execute_result"
    }
   ],
   "source": [
    "멜론_TOP5_가수_리스트.append('케이윌')\n",
    "멜론_TOP5_가수_리스트.append('트와이스')\n",
    "멜론_TOP5_가수_리스트"
   ]
  },
  {
   "cell_type": "code",
   "execution_count": 17,
   "metadata": {},
   "outputs": [
    {
     "data": {
      "text/plain": [
       "['EXO', '송민호', '엠씨더맥스', '이소라', '청하', '폴킴', '영비', '케이윌', '트와이스', '케이윌', '트와이스']"
      ]
     },
     "execution_count": 17,
     "metadata": {},
     "output_type": "execute_result"
    }
   ],
   "source": [
    "추가할_리스트 = ['케이윌', '트와이스']\n",
    "멜론_TOP5_가수_리스트.extend(추가할_리스트)\n",
    "멜론_TOP5_가수_리스트"
   ]
  },
  {
   "cell_type": "markdown",
   "metadata": {},
   "source": [
    "실수 포인트"
   ]
  },
  {
   "cell_type": "code",
   "execution_count": 18,
   "metadata": {},
   "outputs": [
    {
     "data": {
      "text/plain": [
       "['EXO',\n",
       " '송민호',\n",
       " '엠씨더맥스',\n",
       " '이소라',\n",
       " '청하',\n",
       " '폴킴',\n",
       " '영비',\n",
       " '케이윌',\n",
       " '트와이스',\n",
       " '케이윌',\n",
       " '트와이스',\n",
       " '방',\n",
       " '탄',\n",
       " '소',\n",
       " '년',\n",
       " '단']"
      ]
     },
     "execution_count": 18,
     "metadata": {},
     "output_type": "execute_result"
    }
   ],
   "source": [
    "멜론_TOP5_가수_리스트.extend('방탄소년단')\n",
    "# 멜론_TOP5_가수_리스트.extend(['방', '탄', '소', '년', '단'])\n",
    "멜론_TOP5_가수_리스트"
   ]
  },
  {
   "cell_type": "code",
   "execution_count": null,
   "metadata": {},
   "outputs": [],
   "source": []
  },
  {
   "cell_type": "code",
   "execution_count": 19,
   "metadata": {},
   "outputs": [],
   "source": [
    "알파벳 = \"abcdefghijklmnopqrstuvwxyz\""
   ]
  },
  {
   "cell_type": "code",
   "execution_count": 21,
   "metadata": {},
   "outputs": [
    {
     "data": {
      "text/plain": [
       "'cdefghijklmnopqrstuvwxyz'"
      ]
     },
     "execution_count": 21,
     "metadata": {},
     "output_type": "execute_result"
    }
   ],
   "source": [
    "알파벳[2:]"
   ]
  },
  {
   "cell_type": "code",
   "execution_count": 22,
   "metadata": {},
   "outputs": [
    {
     "data": {
      "text/plain": [
       "'cdefghijklmnopqrstuvwx'"
      ]
     },
     "execution_count": 22,
     "metadata": {},
     "output_type": "execute_result"
    }
   ],
   "source": [
    "알파벳[2:-2]"
   ]
  },
  {
   "cell_type": "code",
   "execution_count": 24,
   "metadata": {},
   "outputs": [
    {
     "data": {
      "text/plain": [
       "'cegikmoqsuw'"
      ]
     },
     "execution_count": 24,
     "metadata": {},
     "output_type": "execute_result"
    }
   ],
   "source": [
    "알파벳[2:-2:2]"
   ]
  },
  {
   "cell_type": "code",
   "execution_count": 25,
   "metadata": {},
   "outputs": [
    {
     "data": {
      "text/plain": [
       "'abcdefghijklmnopqrstuvwx'"
      ]
     },
     "execution_count": 25,
     "metadata": {},
     "output_type": "execute_result"
    }
   ],
   "source": [
    "알파벳[:-2]"
   ]
  },
  {
   "cell_type": "code",
   "execution_count": 26,
   "metadata": {},
   "outputs": [
    {
     "data": {
      "text/plain": [
       "'wxyz'"
      ]
     },
     "execution_count": 26,
     "metadata": {},
     "output_type": "execute_result"
    }
   ],
   "source": [
    "# 마지막 4개\n",
    "알파벳[-4:]"
   ]
  },
  {
   "cell_type": "code",
   "execution_count": 27,
   "metadata": {},
   "outputs": [
    {
     "data": {
      "text/plain": [
       "'abcd'"
      ]
     },
     "execution_count": 27,
     "metadata": {},
     "output_type": "execute_result"
    }
   ],
   "source": [
    "# 처음 4개\n",
    "알파벳[:4]"
   ]
  },
  {
   "cell_type": "code",
   "execution_count": 28,
   "metadata": {},
   "outputs": [
    {
     "data": {
      "text/plain": [
       "'abcdefghijklmnopqrstuvwxyz'"
      ]
     },
     "execution_count": 28,
     "metadata": {},
     "output_type": "execute_result"
    }
   ],
   "source": [
    "# 아래 값을 적절히 넣으면, 문자열이 뒤집힙니다. ㅎㅎ :D\n",
    "알파벳[::]"
   ]
  },
  {
   "cell_type": "code",
   "execution_count": null,
   "metadata": {},
   "outputs": [],
   "source": []
  },
  {
   "cell_type": "code",
   "execution_count": null,
   "metadata": {},
   "outputs": [],
   "source": []
  },
  {
   "cell_type": "code",
   "execution_count": null,
   "metadata": {},
   "outputs": [],
   "source": []
  },
  {
   "cell_type": "code",
   "execution_count": null,
   "metadata": {},
   "outputs": [],
   "source": []
  },
  {
   "cell_type": "code",
   "execution_count": null,
   "metadata": {},
   "outputs": [],
   "source": []
  }
 ],
 "metadata": {
  "kernelspec": {
   "display_name": "Python 3",
   "language": "python",
   "name": "python3"
  },
  "language_info": {
   "codemirror_mode": {
    "name": "ipython",
    "version": 3
   },
   "file_extension": ".py",
   "mimetype": "text/x-python",
   "name": "python",
   "nbconvert_exporter": "python",
   "pygments_lexer": "ipython3",
   "version": "3.7.0"
  }
 },
 "nbformat": 4,
 "nbformat_minor": 2
}
