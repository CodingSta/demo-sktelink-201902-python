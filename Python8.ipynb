{
 "cells": [
  {
   "cell_type": "markdown",
   "metadata": {},
   "source": [
    "## 정규표현식 (2)"
   ]
  },
  {
   "cell_type": "code",
   "execution_count": null,
   "metadata": {},
   "outputs": [],
   "source": [
    "받은_메세지 = \"네이버에서 SK텔링크 검색해줘.\"\n",
    "받은_메세지 = \"네이버에서 SK텔링크 검색\"\n",
    "받은_메세지 = \"네이버에서 SK텔링크 검색해줄래?\"\n",
    "받은_메세지 = \"네이버에서 SK텔링크 검색해주지 않으련?\"\n",
    "받은_메세지 = \"네이버에서 SK텔링크 검색해봐봐\"\n",
    "받은_메세지 = \"네이버에서 SK텔링크 검색 고고\""
   ]
  },
  {
   "cell_type": "code",
   "execution_count": 6,
   "metadata": {},
   "outputs": [
    {
     "name": "stdout",
     "output_type": "stream",
     "text": [
      "<re.Match object; span=(0, 14), match='네이버에서 SK텔링크 검색'>\n",
      "()\n"
     ]
    }
   ],
   "source": [
    "import re\n",
    "\n",
    "네이버_블로그_검색_패턴 = \"네이버에서.+검색\"\n",
    "matched = re.match(네이버_블로그_검색_패턴, \"네이버에서 SK텔링크 검색 afaafa\")\n",
    "\n",
    "print(matched)\n",
    "print(matched.groups())"
   ]
  },
  {
   "cell_type": "code",
   "execution_count": 7,
   "metadata": {},
   "outputs": [
    {
     "name": "stdout",
     "output_type": "stream",
     "text": [
      "<re.Match object; span=(0, 14), match='네이버에서 SK텔링크 검색'>\n",
      "(' SK텔링크 ',)\n"
     ]
    }
   ],
   "source": [
    "네이버_블로그_검색_패턴 = \"네이버에서(.+)검색\"\n",
    "matched = re.match(네이버_블로그_검색_패턴, \"네이버에서 SK텔링크 검색 afaafa\")\n",
    "\n",
    "print(matched)\n",
    "print(matched.groups())"
   ]
  },
  {
   "cell_type": "code",
   "execution_count": 15,
   "metadata": {},
   "outputs": [
    {
     "name": "stdout",
     "output_type": "stream",
     "text": [
      "네이버에 크롤링을 시도 :  파이썬 \n"
     ]
    }
   ],
   "source": [
    "네이버_블로그_검색_패턴 = \"네이버에서(.+)검색\"\n",
    "matched = re.match(네이버_블로그_검색_패턴, \"네이버에서 파이썬 검색 afaafa\")\n",
    "\n",
    "if matched:\n",
    "    추출된_문자열_목록 = matched.groups()\n",
    "    검색어 = 추출된_문자열_목록[0]  # 목록 중에서 첫번째 값을 가져와서, 변수에 저장\n",
    "    print(\"네이버에 크롤링을 시도 : {}\".format(검색어))\n",
    "else:\n",
    "    print(\"네이버 검색 메세지가 아닙니다.\")"
   ]
  },
  {
   "cell_type": "code",
   "execution_count": 13,
   "metadata": {},
   "outputs": [
    {
     "name": "stdout",
     "output_type": "stream",
     "text": [
      "('SK텔링크',)\n"
     ]
    }
   ],
   "source": [
    "mylist = ('SK텔링크',)\n",
    "print(mylist)"
   ]
  },
  {
   "cell_type": "code",
   "execution_count": 14,
   "metadata": {},
   "outputs": [
    {
     "name": "stdout",
     "output_type": "stream",
     "text": [
      "SK텔링크\n"
     ]
    }
   ],
   "source": [
    "mylist = 'SK텔링크'\n",
    "print(mylist)"
   ]
  },
  {
   "cell_type": "code",
   "execution_count": null,
   "metadata": {},
   "outputs": [],
   "source": []
  },
  {
   "cell_type": "code",
   "execution_count": null,
   "metadata": {},
   "outputs": [],
   "source": []
  },
  {
   "cell_type": "code",
   "execution_count": null,
   "metadata": {},
   "outputs": [],
   "source": []
  },
  {
   "cell_type": "code",
   "execution_count": null,
   "metadata": {},
   "outputs": [],
   "source": []
  }
 ],
 "metadata": {
  "kernelspec": {
   "display_name": "Python 3",
   "language": "python",
   "name": "python3"
  },
  "language_info": {
   "codemirror_mode": {
    "name": "ipython",
    "version": 3
   },
   "file_extension": ".py",
   "mimetype": "text/x-python",
   "name": "python",
   "nbconvert_exporter": "python",
   "pygments_lexer": "ipython3",
   "version": "3.7.0"
  }
 },
 "nbformat": 4,
 "nbformat_minor": 2
}
