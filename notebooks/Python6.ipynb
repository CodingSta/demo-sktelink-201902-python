{
 "cells": [
  {
   "cell_type": "markdown",
   "metadata": {},
   "source": [
    "가수별 곡수 구하기"
   ]
  },
  {
   "cell_type": "code",
   "execution_count": 1,
   "metadata": {},
   "outputs": [],
   "source": [
    "# 1) 데이터를 로컬에 다운받아, 멜론_TOP100.csv 파일로 저장\n",
    "import requests\n",
    "\n",
    "res = requests.get(\"https://goo.gl/iDUKrL\")\n",
    "with open(\"멜론_TOP100.csv\", \"wt\", encoding=\"utf8\") as f:\n",
    "    f.write(res.text)\n",
    "\n",
    "# 2) 로컬의 CSV 데이터를 리스트(내부 dict)구조로 획득\n",
    "import csv\n",
    "\n",
    "with open(\"멜론_TOP100.csv\", \"rt\", encoding=\"utf8\") as f:\n",
    "    reader = csv.DictReader(f)\n",
    "    멜론_top100_리스트 = list(reader)"
   ]
  },
  {
   "cell_type": "code",
   "execution_count": 2,
   "metadata": {},
   "outputs": [
    {
     "data": {
      "text/plain": [
       "100"
      ]
     },
     "execution_count": 2,
     "metadata": {},
     "output_type": "execute_result"
    }
   ],
   "source": [
    "len(멜론_top100_리스트)"
   ]
  },
  {
   "cell_type": "markdown",
   "metadata": {},
   "source": [
    "지정 경로에 엑셀파일을 생성합니다."
   ]
  },
  {
   "cell_type": "code",
   "execution_count": 3,
   "metadata": {},
   "outputs": [],
   "source": [
    "import pandas as pd\n",
    "\n",
    "df = pd.DataFrame(멜론_top100_리스트)\n",
    "df.to_excel('멜론_top100_리스트.xlsx')"
   ]
  },
  {
   "cell_type": "markdown",
   "metadata": {},
   "source": [
    "\"가수별 곡수\"를 저장하기에 어떤 자료구조가 좋을까?"
   ]
  },
  {
   "cell_type": "code",
   "execution_count": null,
   "metadata": {},
   "outputs": [],
   "source": [
    "{\n",
    "    '방탄소년단': 14,\n",
    "    '아이유': 2,\n",
    "}"
   ]
  },
  {
   "cell_type": "code",
   "execution_count": 8,
   "metadata": {},
   "outputs": [
    {
     "data": {
      "text/plain": [
       "'EXO'"
      ]
     },
     "execution_count": 8,
     "metadata": {},
     "output_type": "execute_result"
    }
   ],
   "source": [
    "멜론_top100_리스트[99]['가수']"
   ]
  },
  {
   "cell_type": "code",
   "execution_count": 33,
   "metadata": {
    "collapsed": true
   },
   "outputs": [
    {
     "name": "stdout",
     "output_type": "stream",
     "text": [
      "57\n"
     ]
    },
    {
     "data": {
      "text/plain": [
       "{'아이유': 2,\n",
       " '로꼬': 2,\n",
       " 'pH-1': 1,\n",
       " '임창정': 1,\n",
       " '방탄소년단': 14,\n",
       " 'iKON': 3,\n",
       " 'Coogie': 1,\n",
       " '로이킴': 2,\n",
       " '바이브': 2,\n",
       " '펀치 (Punch)': 1,\n",
       " '폴킴': 2,\n",
       " '백현 (BAEKHYUN)': 1,\n",
       " '선미': 1,\n",
       " '벤': 1,\n",
       " '숀 (SHAUN)': 1,\n",
       " 'EXO': 3,\n",
       " '찬열': 1,\n",
       " '기리보이': 1,\n",
       " 'EXO-CBX (첸백시)': 1,\n",
       " '저스디스 (JUSTHIS)': 1,\n",
       " '레이 (LAY)': 1,\n",
       " 'BLACKPINK': 2,\n",
       " '닐로 (Nilo)': 2,\n",
       " 'TWICE (트와이스)': 2,\n",
       " '박원': 1,\n",
       " 'Wanna One (워너원)': 5,\n",
       " 'Red Velvet (레드벨벳)': 1,\n",
       " '임한별': 1,\n",
       " '볼빨간사춘기': 1,\n",
       " 'Wanna One (워너원) - 트리플포지션': 1,\n",
       " '마마무(Mamamoo)': 2,\n",
       " '양다일': 1,\n",
       " '먼데이 키즈 (Monday Kiz)': 1,\n",
       " '비투비': 2,\n",
       " '멜로망스': 4,\n",
       " '승리': 1,\n",
       " 'Apink (에이핑크)': 1,\n",
       " '지코 (ZICO)': 1,\n",
       " '세븐틴': 2,\n",
       " '장덕철': 1,\n",
       " 'Wanna One (워너원) - 더힐': 1,\n",
       " '10cm': 2,\n",
       " 'nafla': 1,\n",
       " '(여자)아이들': 1,\n",
       " '뉴이스트 W': 8,\n",
       " '김효은': 1,\n",
       " '모트 (Motte)': 1,\n",
       " '이수 (엠씨 더 맥스)': 1,\n",
       " 'Wanna One (워너원) - 린온미': 1,\n",
       " '용준형': 1,\n",
       " 'Wanna One (워너원) - 남바완': 1,\n",
       " 'NU`EST': 1,\n",
       " '정승환': 1,\n",
       " 'Fitz & The Tantrums': 1,\n",
       " '여자친구 (GFRIEND)': 1,\n",
       " '청하': 1,\n",
       " '소녀시대-Oh!GG': 1}"
      ]
     },
     "execution_count": 33,
     "metadata": {},
     "output_type": "execute_result"
    }
   ],
   "source": [
    "가수별_곡수 = {}\n",
    "\n",
    "# 가수별로 값을 0으로 초기화를 모두 하고 나서,\n",
    "for 곡 in 멜론_top100_리스트:\n",
    "    가수 = 곡['가수']\n",
    "    가수별_곡수[가수] = 0\n",
    "\n",
    "# 각 가수별로 카운트를 할 수 있습니다.\n",
    "for 곡 in 멜론_top100_리스트:\n",
    "    가수 = 곡['가수']\n",
    "    가수별_곡수[가수] += 1\n",
    "\n",
    "print(len(가수별_곡수))  # 총 가수의 수\n",
    "가수별_곡수"
   ]
  },
  {
   "cell_type": "code",
   "execution_count": null,
   "metadata": {},
   "outputs": [],
   "source": []
  },
  {
   "cell_type": "code",
   "execution_count": 16,
   "metadata": {},
   "outputs": [],
   "source": [
    "이번_달에_먹은_메뉴들 = [\n",
    "    '김치찌개', '볶음밥', '라면', '김밥', '짜장면',\n",
    "    '볶음밥', '라면', '볶음밥', '김치찌개', '볶음밥',\n",
    "]"
   ]
  },
  {
   "cell_type": "code",
   "execution_count": 32,
   "metadata": {},
   "outputs": [
    {
     "data": {
      "text/plain": [
       "{'김치찌개': 2, '볶음밥': 4, '라면': 2, '김밥': 1, '짜장면': 1}"
      ]
     },
     "execution_count": 32,
     "metadata": {},
     "output_type": "execute_result"
    }
   ],
   "source": [
    "메뉴_카운트_사전 = {}\n",
    "\n",
    "for 메뉴명 in 이번_달에_먹은_메뉴들:\n",
    "    메뉴_카운트_사전[메뉴명] = 0\n",
    "\n",
    "for 메뉴명 in 이번_달에_먹은_메뉴들:\n",
    "    메뉴_카운트_사전[메뉴명] += 1\n",
    "    \n",
    "메뉴_카운트_사전"
   ]
  },
  {
   "cell_type": "code",
   "execution_count": null,
   "metadata": {},
   "outputs": [],
   "source": []
  },
  {
   "cell_type": "code",
   "execution_count": 40,
   "metadata": {},
   "outputs": [
    {
     "data": {
      "text/plain": [
       "[51, 44, 22, 10, 83, 23]"
      ]
     },
     "execution_count": 40,
     "metadata": {},
     "output_type": "execute_result"
    }
   ],
   "source": [
    "import random\n",
    "\n",
    "랜덤_숫자_리스트 = random.sample(range(100), 10)\n",
    "랜덤_숫자_리스트"
   ]
  },
  {
   "cell_type": "code",
   "execution_count": null,
   "metadata": {},
   "outputs": [],
   "source": [
    "숫자 = 51\n",
    "key = 숫자 % 10"
   ]
  },
  {
   "cell_type": "code",
   "execution_count": null,
   "metadata": {},
   "outputs": [],
   "source": [
    "# 일의 숫자를 기준으로 해서, 그룹핑한 숫자들의 합 => 사전\n",
    "\n",
    "{\n",
    "    0: 10,\n",
    "    2: 22,\n",
    "    3: 106,\n",
    "    4: 44,\n",
    "    1: 51,\n",
    "}"
   ]
  },
  {
   "cell_type": "code",
   "execution_count": 43,
   "metadata": {},
   "outputs": [
    {
     "data": {
      "text/plain": [
       "{8: 156, 1: 122, 7: 77, 5: 90, 2: 32, 3: 3, 4: 94}"
      ]
     },
     "execution_count": 43,
     "metadata": {},
     "output_type": "execute_result"
    }
   ],
   "source": [
    "랜덤_숫자_리스트 = random.sample(range(100), 10)\n",
    "# 랜덤_숫자_리스트\n",
    "\n",
    "숫자_1의자리수_그룹의_합_사전 = {}\n",
    "\n",
    "for 숫자 in 랜덤_숫자_리스트:\n",
    "    key = 숫자 % 10\n",
    "    숫자_1의자리수_그룹의_합_사전[key] = 0\n",
    "\n",
    "for 숫자 in 랜덤_숫자_리스트:\n",
    "    key = 숫자 % 10\n",
    "    숫자_1의자리수_그룹의_합_사전[key] += 숫자\n",
    "    \n",
    "숫자_1의자리수_그룹의_합_사전"
   ]
  },
  {
   "cell_type": "code",
   "execution_count": 44,
   "metadata": {},
   "outputs": [
    {
     "data": {
      "text/plain": [
       "{6: [86, 66], 7: [37, 27], 2: [92], 0: [40], 1: [61], 8: [48, 98], 9: [29]}"
      ]
     },
     "execution_count": 44,
     "metadata": {},
     "output_type": "execute_result"
    }
   ],
   "source": [
    "랜덤_숫자_리스트 = random.sample(range(100), 10)\n",
    "# 랜덤_숫자_리스트\n",
    "\n",
    "숫자_1의자리수_그룹의_합_사전 = {}  # FIXME: 이름은 바꿀 필요가 있겠어요.\n",
    "\n",
    "for 숫자 in 랜덤_숫자_리스트:\n",
    "    key = 숫자 % 10\n",
    "    숫자_1의자리수_그룹의_합_사전[key] = []\n",
    "\n",
    "for 숫자 in 랜덤_숫자_리스트:\n",
    "    key = 숫자 % 10\n",
    "    숫자_1의자리수_그룹의_합_사전[key].append(숫자)\n",
    "    \n",
    "숫자_1의자리수_그룹의_합_사전"
   ]
  },
  {
   "cell_type": "code",
   "execution_count": 47,
   "metadata": {},
   "outputs": [
    {
     "data": {
      "text/plain": [
       "{0: {'횟수': 2, '누적': 70, '목록': [10, 60]},\n",
       " 8: {'횟수': 1, '누적': 28, '목록': [28]},\n",
       " 1: {'횟수': 4, '누적': 254, '목록': [61, 81, 21, 91]},\n",
       " 7: {'횟수': 1, '누적': 77, '목록': [77]},\n",
       " 9: {'횟수': 1, '누적': 39, '목록': [39]},\n",
       " 6: {'횟수': 1, '누적': 86, '목록': [86]}}"
      ]
     },
     "execution_count": 47,
     "metadata": {},
     "output_type": "execute_result"
    }
   ],
   "source": [
    "랜덤_숫자_리스트 = random.sample(range(100), 10)\n",
    "# 랜덤_숫자_리스트\n",
    "\n",
    "숫자_1의자리수_그룹의_합_사전 = {}  # FIXME: 이름은 바꿀 필요가 있겠어요.\n",
    "\n",
    "for 숫자 in 랜덤_숫자_리스트:\n",
    "    key = 숫자 % 10\n",
    "    숫자_1의자리수_그룹의_합_사전[key] = {\n",
    "        '횟수': 0, '누적': 0,\n",
    "        '목록': [],\n",
    "    }\n",
    "\n",
    "for 숫자 in 랜덤_숫자_리스트:\n",
    "    key = 숫자 % 10\n",
    "    숫자_1의자리수_그룹의_합_사전[key]['횟수'] += 1\n",
    "    숫자_1의자리수_그룹의_합_사전[key]['누적'] += 숫자\n",
    "    숫자_1의자리수_그룹의_합_사전[key]['목록'].append(숫자)\n",
    "    \n",
    "숫자_1의자리수_그룹의_합_사전"
   ]
  },
  {
   "cell_type": "markdown",
   "metadata": {},
   "source": [
    "## 빌트인 함수 : sorted"
   ]
  },
  {
   "cell_type": "code",
   "execution_count": 48,
   "metadata": {},
   "outputs": [
    {
     "data": {
      "text/plain": [
       "[232, 96, 690, 541, 26, 782, 858, 955, 611, 117]"
      ]
     },
     "execution_count": 48,
     "metadata": {},
     "output_type": "execute_result"
    }
   ],
   "source": [
    "import random\n",
    "\n",
    "숫자_리스트 = random.sample(range(1000), 10)\n",
    "숫자_리스트"
   ]
  },
  {
   "cell_type": "code",
   "execution_count": 50,
   "metadata": {},
   "outputs": [
    {
     "data": {
      "text/plain": [
       "[955, 858, 782, 690, 611, 541, 232, 117, 96, 26]"
      ]
     },
     "execution_count": 50,
     "metadata": {},
     "output_type": "execute_result"
    }
   ],
   "source": [
    "sorted(숫자_리스트, reverse=True)"
   ]
  },
  {
   "cell_type": "code",
   "execution_count": 51,
   "metadata": {},
   "outputs": [
    {
     "data": {
      "text/plain": [
       "[690, 541, 611, 232, 782, 955, 96, 26, 117, 858]"
      ]
     },
     "execution_count": 51,
     "metadata": {},
     "output_type": "execute_result"
    }
   ],
   "source": [
    "def sort_key_fn(value):\n",
    "    return value % 10\n",
    "\n",
    "sorted(숫자_리스트, key=sort_key_fn)"
   ]
  },
  {
   "cell_type": "code",
   "execution_count": 55,
   "metadata": {
    "collapsed": true
   },
   "outputs": [
    {
     "name": "stdout",
     "output_type": "stream",
     "text": [
      "바이브 Not A Love 2508\n",
      "김효은 패 (Feat. 넉살, 딥플로우) 10536\n",
      "nafla 공상과학기술 (Feat. 기리보이, 스윙스) 13148\n",
      "뉴이스트 W I Don’t Care (with 스푼즈) 13544\n",
      "뉴이스트 W AND I 20736\n",
      "10cm Perfect 24732\n",
      "정승환 잘 지내요 25169\n",
      "임한별 이별하러 가는 길 25182\n",
      "뉴이스트 W 중력달 (Gravity&Moon;) 26091\n",
      "뉴이스트 W ylenoL 26136\n",
      "박원 나 26696\n",
      "뉴이스트 W Signal 27270\n",
      "Coogie 사임사임 (Feat. CHANGMO) 27564\n",
      "바이브 가을 타나 봐 28056\n",
      "레이 (LAY) Sheep (Alan Walker Relift) 30411\n",
      "뉴이스트 W 북극성 (Polaris) 32098\n",
      "멜로망스 좋은 날 33146\n",
      "소녀시대-Oh!GG 몰랐니 (Lil` Touch) 42853\n",
      "저스디스 (JUSTHIS) IndiGO 46739\n",
      "로꼬 시간이 들겠지 (Feat. Colde) 48331\n",
      "모트 (Motte) 도망가지마 48716\n",
      "뉴이스트 W Dejavu 53081\n",
      "찬열 We Young 53852\n",
      "pH-1 Good Day (Feat. 팔로알토) (Prod. 코드 쿤스트) 54022\n",
      "iKON 이별길 (GOODBYE ROAD) 55396\n",
      "아이유 삐삐 61528\n",
      "청하 Love U 61670\n",
      "10cm 매트리스 62312\n",
      "세븐틴 어쩌나 64770\n",
      "iKON 죽겠다 (KILLING ME) 66253\n",
      "Wanna One (워너원) - 남바완 11 (Prod. 다이나믹듀오) 67211\n",
      "(여자)아이들 한(一) 69062\n",
      "기리보이 flex (Prod. By 기리보이) 72135\n",
      "세븐틴 A-TEEN 75932\n",
      "Wanna One (워너원) - 린온미 영원+1 (Prod. NELL) 76313\n",
      "펀치 (Punch) 헤어지는 중 77050\n",
      "승리 셋 셀테니 (1, 2, 3!) 78381\n",
      "닐로 (Nilo) 넋두리 81028\n",
      "멜로망스 동화 81522\n",
      "EXO Stay 81556\n",
      "Wanna One (워너원) - 더힐 모래시계 (Prod. 헤이즈) 83296\n",
      "방탄소년단 Trivia 承 : Love 83610\n",
      "Apink (에이핑크) 1도 없어 88037\n",
      "EXO 지나갈 테니 (Been Through) 88331\n",
      "방탄소년단 Trivia 起 : Just Dance 88970\n",
      "백현 (BAEKHYUN) YOUNG 91106\n",
      "선미 사이렌 (Siren) 91516\n",
      "뉴이스트 W WHERE YOU AT 92753\n",
      "마마무(Mamamoo) 너나 해 (Egotistic) 94861\n",
      "로이킴 우리 그만하자 95771\n",
      "임창정 하루도 그대를 사랑하지 않은 적이 없었다 97984\n",
      "방탄소년단 Trivia 轉 : Seesaw 98436\n",
      "방탄소년단 Epiphany 101011\n",
      "Wanna One (워너원) - 트리플포지션 캥거루 (Kangaroo) (Prod. ZICO) 104852\n",
      "방탄소년단 Answer : Love Myself 108151\n",
      "먼데이 키즈 (Monday Kiz) 가을 안부 109447\n",
      "EXO-CBX (첸백시) 花요일 (Blooming Day) 110311\n",
      "Wanna One (워너원) 켜줘 (Light) 112878\n",
      "지코 (ZICO) SoulMate (Feat. 아이유) 113443\n",
      "벤 열애중 115805\n",
      "양다일 미안해 115955\n",
      "BLACKPINK Forever Young 119422\n",
      "이수 (엠씨 더 맥스) My Way 119657\n",
      "TWICE (트와이스) What is Love? 121530\n",
      "Wanna One (워너원) BOOMERANG (부메랑) 124968\n",
      "여자친구 (GFRIEND) 밤 (Time for the moon night) 125760\n",
      "NU`EST 여보세요 126064\n",
      "TWICE (트와이스) Dance The Night Away 127052\n",
      "방탄소년단 Airplane pt.2 127355\n",
      "방탄소년단 Euphoria 129017\n",
      "용준형 소나기 (Feat. 10cm) 130935\n",
      "Red Velvet (레드벨벳) Power Up 130949\n",
      "비투비 너 없인 안 된다 132726\n",
      "방탄소년단 I`m Fine 132847\n",
      "Wanna One (워너원) 약속해요 (I.P.U.) 137141\n",
      "방탄소년단 Anpanman 138694\n",
      "멜로망스 You 141103\n",
      "마마무(Mamamoo) 별이 빛나는 밤 145494\n",
      "로꼬 주지마 154263\n",
      "EXO Universe 155809\n",
      "Fitz & The Tantrums HandClap 156476\n",
      "폴킴 비 156761\n",
      "방탄소년단 IDOL 173279\n",
      "로이킴 그때 헤어지면 돼 176025\n",
      "방탄소년단 전하지 못한 진심 (Feat. Steve Aoki) 176653\n",
      "닐로 (Nilo) 지나오다 178367\n",
      "폴킴 모든 날, 모든 순간 (Every day, Every Moment) 185706\n",
      "볼빨간사춘기 여행 190489\n",
      "BLACKPINK 뚜두뚜두 (DDU-DU DDU-DU) 192831\n",
      "비투비 그리워하다 203463\n",
      "장덕철 그날처럼 208427\n",
      "Wanna One (워너원) Beautiful 216065\n",
      "숀 (SHAUN) Way Back Home 225308\n",
      "방탄소년단 FAKE LOVE 253847\n",
      "멜로망스 선물 266869\n",
      "iKON 사랑을 했다 (LOVE SCENARIO) 267692\n",
      "Wanna One (워너원) 에너제틱 (Energetic) 268394\n",
      "아이유 밤편지 283167\n",
      "방탄소년단 DNA 323911\n",
      "방탄소년단 봄날 359130\n"
     ]
    }
   ],
   "source": [
    "# 가수명으로 오름차순 정렬\n",
    "def sort_key_fn(곡):\n",
    "    return 곡['가수']\n",
    "\n",
    "정렬된_리스트 = sorted(멜론_top100_리스트, key=sort_key_fn)\n",
    "\n",
    "for 곡 in 정렬된_리스트:\n",
    "    print(곡['가수'], 곡['곡명'], 곡['좋아요'])"
   ]
  },
  {
   "cell_type": "code",
   "execution_count": 52,
   "metadata": {},
   "outputs": [],
   "source": [
    "# 좋아요(주의: 문자열 타입)로 내림차순 정렬\n",
    "def sort_key_fn(곡):\n",
    "    return int(곡['좋아요'])\n",
    "\n",
    "정렬된_리스트 = sorted(멜론_top100_리스트, key=sort_key_fn, reverse=True)\n",
    "\n",
    "for 곡 in 정렬된_리스트:\n",
    "    print(곡['가수'], 곡['곡명'], 곡['좋아요'])"
   ]
  },
  {
   "cell_type": "code",
   "execution_count": 60,
   "metadata": {
    "collapsed": true
   },
   "outputs": [
    {
     "data": {
      "text/plain": [
       "{'아이유': ['삐삐', '밤편지'],\n",
       " '로꼬': ['시간이 들겠지 (Feat. Colde)', '주지마'],\n",
       " 'pH-1': ['Good Day (Feat. 팔로알토) (Prod. 코드 쿤스트)'],\n",
       " '임창정': ['하루도 그대를 사랑하지 않은 적이 없었다'],\n",
       " '방탄소년단': ['IDOL',\n",
       "  'I`m Fine',\n",
       "  'FAKE LOVE',\n",
       "  'Euphoria',\n",
       "  'Answer : Love Myself',\n",
       "  '전하지 못한 진심 (Feat. Steve Aoki)',\n",
       "  'Epiphany',\n",
       "  'Trivia 轉 : Seesaw',\n",
       "  'Trivia 起 : Just Dance',\n",
       "  'Trivia 承 : Love',\n",
       "  'Anpanman',\n",
       "  '봄날',\n",
       "  'DNA',\n",
       "  'Airplane pt.2'],\n",
       " 'iKON': ['이별길 (GOODBYE ROAD)', '사랑을 했다 (LOVE SCENARIO)', '죽겠다 (KILLING ME)'],\n",
       " 'Coogie': ['사임사임 (Feat. CHANGMO)'],\n",
       " '로이킴': ['우리 그만하자', '그때 헤어지면 돼'],\n",
       " '바이브': ['가을 타나 봐', 'Not A Love'],\n",
       " '펀치 (Punch)': ['헤어지는 중'],\n",
       " '폴킴': ['모든 날, 모든 순간 (Every day, Every Moment)', '비'],\n",
       " '백현 (BAEKHYUN)': ['YOUNG'],\n",
       " '선미': ['사이렌 (Siren)'],\n",
       " '벤': ['열애중'],\n",
       " '숀 (SHAUN)': ['Way Back Home'],\n",
       " 'EXO': ['Universe', '지나갈 테니 (Been Through)', 'Stay'],\n",
       " '찬열': ['We Young'],\n",
       " '기리보이': ['flex (Prod. By 기리보이)'],\n",
       " 'EXO-CBX (첸백시)': ['花요일 (Blooming Day)'],\n",
       " '저스디스 (JUSTHIS)': ['IndiGO'],\n",
       " '레이 (LAY)': ['Sheep (Alan Walker Relift)'],\n",
       " 'BLACKPINK': ['뚜두뚜두 (DDU-DU DDU-DU)', 'Forever Young'],\n",
       " '닐로 (Nilo)': ['지나오다', '넋두리'],\n",
       " 'TWICE (트와이스)': ['Dance The Night Away', 'What is Love?'],\n",
       " '박원': ['나'],\n",
       " 'Wanna One (워너원)': ['켜줘 (Light)',\n",
       "  '에너제틱 (Energetic)',\n",
       "  'BOOMERANG (부메랑)',\n",
       "  'Beautiful',\n",
       "  '약속해요 (I.P.U.)'],\n",
       " 'Red Velvet (레드벨벳)': ['Power Up'],\n",
       " '임한별': ['이별하러 가는 길'],\n",
       " '볼빨간사춘기': ['여행'],\n",
       " 'Wanna One (워너원) - 트리플포지션': ['캥거루 (Kangaroo) (Prod. ZICO)'],\n",
       " '마마무(Mamamoo)': ['너나 해 (Egotistic)', '별이 빛나는 밤'],\n",
       " '양다일': ['미안해'],\n",
       " '먼데이 키즈 (Monday Kiz)': ['가을 안부'],\n",
       " '비투비': ['너 없인 안 된다', '그리워하다'],\n",
       " '멜로망스': ['동화', 'You', '선물', '좋은 날'],\n",
       " '승리': ['셋 셀테니 (1, 2, 3!)'],\n",
       " 'Apink (에이핑크)': ['1도 없어'],\n",
       " '지코 (ZICO)': ['SoulMate (Feat. 아이유)'],\n",
       " '세븐틴': ['어쩌나', 'A-TEEN'],\n",
       " '장덕철': ['그날처럼'],\n",
       " 'Wanna One (워너원) - 더힐': ['모래시계 (Prod. 헤이즈)'],\n",
       " '10cm': ['매트리스', 'Perfect'],\n",
       " 'nafla': ['공상과학기술 (Feat. 기리보이, 스윙스)'],\n",
       " '(여자)아이들': ['한(一)'],\n",
       " '뉴이스트 W': ['Dejavu',\n",
       "  'AND I',\n",
       "  'I Don’t Care (with 스푼즈)',\n",
       "  '북극성 (Polaris)',\n",
       "  'WHERE YOU AT',\n",
       "  'Signal',\n",
       "  'ylenoL',\n",
       "  '중력달 (Gravity&Moon;)'],\n",
       " '김효은': ['패 (Feat. 넉살, 딥플로우)'],\n",
       " '모트 (Motte)': ['도망가지마'],\n",
       " '이수 (엠씨 더 맥스)': ['My Way'],\n",
       " 'Wanna One (워너원) - 린온미': ['영원+1 (Prod. NELL)'],\n",
       " '용준형': ['소나기 (Feat. 10cm)'],\n",
       " 'Wanna One (워너원) - 남바완': ['11 (Prod. 다이나믹듀오)'],\n",
       " 'NU`EST': ['여보세요'],\n",
       " '정승환': ['잘 지내요'],\n",
       " 'Fitz & The Tantrums': ['HandClap'],\n",
       " '여자친구 (GFRIEND)': ['밤 (Time for the moon night)'],\n",
       " '청하': ['Love U'],\n",
       " '소녀시대-Oh!GG': ['몰랐니 (Lil` Touch)']}"
      ]
     },
     "execution_count": 60,
     "metadata": {},
     "output_type": "execute_result"
    }
   ],
   "source": [
    "# TODO: 각 가수별, 곡명의 리스트를 완성하세요.\n",
    "# {\n",
    "#     '방탄소년단': ['IDOL'],\n",
    "# }\n",
    "\n",
    "가수별_곡명_리스트_사전 = {}\n",
    "\n",
    "for 곡 in 멜론_top100_리스트:\n",
    "    key = 곡['가수']\n",
    "    가수별_곡명_리스트_사전[key] = []\n",
    "\n",
    "for 곡 in 멜론_top100_리스트:\n",
    "    key = 곡['가수']\n",
    "    가수별_곡명_리스트_사전[key].append(곡['곡명'])\n",
    "    \n",
    "가수별_곡명_리스트_사전"
   ]
  },
  {
   "cell_type": "code",
   "execution_count": 62,
   "metadata": {},
   "outputs": [
    {
     "data": {
      "text/plain": [
       "{'아이유': ['삐삐', '밤편지'],\n",
       " '로꼬': ['시간이 들겠지 (Feat. Colde)', '주지마'],\n",
       " 'pH-1': ['Good Day (Feat. 팔로알토) (Prod. 코드 쿤스트)'],\n",
       " '임창정': ['하루도 그대를 사랑하지 않은 적이 없었다'],\n",
       " '방탄소년단': ['IDOL',\n",
       "  'I`m Fine',\n",
       "  'FAKE LOVE',\n",
       "  'Euphoria',\n",
       "  'Answer : Love Myself',\n",
       "  '전하지 못한 진심 (Feat. Steve Aoki)',\n",
       "  'Epiphany',\n",
       "  'Trivia 轉 : Seesaw',\n",
       "  'Trivia 起 : Just Dance',\n",
       "  'Trivia 承 : Love',\n",
       "  'Anpanman',\n",
       "  '봄날',\n",
       "  'DNA',\n",
       "  'Airplane pt.2'],\n",
       " 'iKON': ['이별길 (GOODBYE ROAD)', '사랑을 했다 (LOVE SCENARIO)', '죽겠다 (KILLING ME)'],\n",
       " 'Coogie': ['사임사임 (Feat. CHANGMO)'],\n",
       " '로이킴': ['우리 그만하자', '그때 헤어지면 돼'],\n",
       " '바이브': ['가을 타나 봐', 'Not A Love'],\n",
       " '펀치 (Punch)': ['헤어지는 중'],\n",
       " '폴킴': ['모든 날, 모든 순간 (Every day, Every Moment)', '비'],\n",
       " '백현 (BAEKHYUN)': ['YOUNG'],\n",
       " '선미': ['사이렌 (Siren)'],\n",
       " '벤': ['열애중'],\n",
       " '숀 (SHAUN)': ['Way Back Home'],\n",
       " 'EXO': ['Universe', '지나갈 테니 (Been Through)', 'Stay'],\n",
       " '찬열': ['We Young'],\n",
       " '기리보이': ['flex (Prod. By 기리보이)'],\n",
       " 'EXO-CBX (첸백시)': ['花요일 (Blooming Day)'],\n",
       " '저스디스 (JUSTHIS)': ['IndiGO'],\n",
       " '레이 (LAY)': ['Sheep (Alan Walker Relift)'],\n",
       " 'BLACKPINK': ['뚜두뚜두 (DDU-DU DDU-DU)', 'Forever Young'],\n",
       " '닐로 (Nilo)': ['지나오다', '넋두리'],\n",
       " 'TWICE (트와이스)': ['Dance The Night Away', 'What is Love?'],\n",
       " '박원': ['나'],\n",
       " 'Wanna One (워너원)': ['켜줘 (Light)',\n",
       "  '에너제틱 (Energetic)',\n",
       "  'BOOMERANG (부메랑)',\n",
       "  'Beautiful',\n",
       "  '약속해요 (I.P.U.)'],\n",
       " 'Red Velvet (레드벨벳)': ['Power Up'],\n",
       " '임한별': ['이별하러 가는 길'],\n",
       " '볼빨간사춘기': ['여행'],\n",
       " 'Wanna One (워너원) - 트리플포지션': ['캥거루 (Kangaroo) (Prod. ZICO)'],\n",
       " '마마무(Mamamoo)': ['너나 해 (Egotistic)', '별이 빛나는 밤'],\n",
       " '양다일': ['미안해'],\n",
       " '먼데이 키즈 (Monday Kiz)': ['가을 안부'],\n",
       " '비투비': ['너 없인 안 된다', '그리워하다'],\n",
       " '멜로망스': ['동화', 'You', '선물', '좋은 날'],\n",
       " '승리': ['셋 셀테니 (1, 2, 3!)'],\n",
       " 'Apink (에이핑크)': ['1도 없어'],\n",
       " '지코 (ZICO)': ['SoulMate (Feat. 아이유)'],\n",
       " '세븐틴': ['어쩌나', 'A-TEEN'],\n",
       " '장덕철': ['그날처럼'],\n",
       " 'Wanna One (워너원) - 더힐': ['모래시계 (Prod. 헤이즈)'],\n",
       " '10cm': ['매트리스', 'Perfect'],\n",
       " 'nafla': ['공상과학기술 (Feat. 기리보이, 스윙스)'],\n",
       " '(여자)아이들': ['한(一)'],\n",
       " '뉴이스트 W': ['Dejavu',\n",
       "  'AND I',\n",
       "  'I Don’t Care (with 스푼즈)',\n",
       "  '북극성 (Polaris)',\n",
       "  'WHERE YOU AT',\n",
       "  'Signal',\n",
       "  'ylenoL',\n",
       "  '중력달 (Gravity&Moon;)'],\n",
       " '김효은': ['패 (Feat. 넉살, 딥플로우)'],\n",
       " '모트 (Motte)': ['도망가지마'],\n",
       " '이수 (엠씨 더 맥스)': ['My Way'],\n",
       " 'Wanna One (워너원) - 린온미': ['영원+1 (Prod. NELL)'],\n",
       " '용준형': ['소나기 (Feat. 10cm)'],\n",
       " 'Wanna One (워너원) - 남바완': ['11 (Prod. 다이나믹듀오)'],\n",
       " 'NU`EST': ['여보세요'],\n",
       " '정승환': ['잘 지내요'],\n",
       " 'Fitz & The Tantrums': ['HandClap'],\n",
       " '여자친구 (GFRIEND)': ['밤 (Time for the moon night)'],\n",
       " '청하': ['Love U'],\n",
       " '소녀시대-Oh!GG': ['몰랐니 (Lil` Touch)']}"
      ]
     },
     "execution_count": 62,
     "metadata": {},
     "output_type": "execute_result"
    }
   ],
   "source": [
    "가수별_곡명_리스트_사전 = {}\n",
    "\n",
    "for 곡 in 멜론_top100_리스트:\n",
    "    key = 곡['가수']\n",
    "    # key가 가수별_곡명_리스트_사전에 키로서 등록이 되어있지 않다면\n",
    "    if key not in 가수별_곡명_리스트_사전:\n",
    "        가수별_곡명_리스트_사전[key] = []\n",
    "    가수별_곡명_리스트_사전[key].append(곡['곡명'])\n",
    "    \n",
    "가수별_곡명_리스트_사전"
   ]
  },
  {
   "cell_type": "markdown",
   "metadata": {},
   "source": [
    "## 크롤링 예시"
   ]
  },
  {
   "cell_type": "markdown",
   "metadata": {},
   "source": [
    "### 네이버 실검"
   ]
  },
  {
   "cell_type": "code",
   "execution_count": 63,
   "metadata": {},
   "outputs": [],
   "source": [
    "import requests"
   ]
  },
  {
   "cell_type": "code",
   "execution_count": 64,
   "metadata": {},
   "outputs": [
    {
     "data": {
      "text/plain": [
       "<Response [200]>"
      ]
     },
     "execution_count": 64,
     "metadata": {},
     "output_type": "execute_result"
    }
   ],
   "source": [
    "url = \"http://naver.com\"\n",
    "\n",
    "응답 = requests.get(url)\n",
    "응답"
   ]
  },
  {
   "cell_type": "code",
   "execution_count": 66,
   "metadata": {},
   "outputs": [
    {
     "data": {
      "text/plain": [
       "162028"
      ]
     },
     "execution_count": 66,
     "metadata": {},
     "output_type": "execute_result"
    }
   ],
   "source": [
    "html = 응답.text\n",
    "len(html)"
   ]
  },
  {
   "cell_type": "code",
   "execution_count": 68,
   "metadata": {},
   "outputs": [],
   "source": [
    "from bs4 import BeautifulSoup"
   ]
  },
  {
   "cell_type": "code",
   "execution_count": 69,
   "metadata": {},
   "outputs": [],
   "source": [
    "soup = BeautifulSoup(html, 'html.parser')"
   ]
  },
  {
   "cell_type": "code",
   "execution_count": 72,
   "metadata": {},
   "outputs": [
    {
     "data": {
      "text/plain": [
       "40"
      ]
     },
     "execution_count": 72,
     "metadata": {},
     "output_type": "execute_result"
    }
   ],
   "source": [
    "tag_list = soup.select('.ah_k')\n",
    "len(tag_list)"
   ]
  },
  {
   "cell_type": "code",
   "execution_count": 74,
   "metadata": {},
   "outputs": [
    {
     "data": {
      "text/plain": [
       "bs4.element.Tag"
      ]
     },
     "execution_count": 74,
     "metadata": {},
     "output_type": "execute_result"
    }
   ],
   "source": [
    "type(tag_list[0])"
   ]
  },
  {
   "cell_type": "code",
   "execution_count": 75,
   "metadata": {},
   "outputs": [
    {
     "data": {
      "text/plain": [
       "<span class=\"ah_k\">슈</span>"
      ]
     },
     "execution_count": 75,
     "metadata": {},
     "output_type": "execute_result"
    }
   ],
   "source": [
    "tag_list[0]"
   ]
  },
  {
   "cell_type": "code",
   "execution_count": 76,
   "metadata": {},
   "outputs": [
    {
     "data": {
      "text/plain": [
       "'슈'"
      ]
     },
     "execution_count": 76,
     "metadata": {},
     "output_type": "execute_result"
    }
   ],
   "source": [
    "tag_list[0].text"
   ]
  },
  {
   "cell_type": "code",
   "execution_count": 77,
   "metadata": {
    "collapsed": true
   },
   "outputs": [
    {
     "name": "stdout",
     "output_type": "stream",
     "text": [
      "슈\n",
      "정월대보름\n",
      "오곡밥\n",
      "차현우\n",
      "집행유예 뜻\n",
      "악마는 프라다를 입는다\n",
      "이수\n",
      "린\n",
      "타이거너트\n",
      "동전 택시기사\n",
      "보름나물\n",
      "허영지\n",
      "첼시 맨유\n",
      "우수\n",
      "국시원\n",
      "은가누 벨라스케즈\n",
      "자이\n",
      "모바일 배틀그라운드\n",
      "내일날씨\n",
      "제이홉\n",
      "슈\n",
      "정월대보름\n",
      "오곡밥\n",
      "차현우\n",
      "집행유예 뜻\n",
      "악마는 프라다를 입는다\n",
      "이수\n",
      "린\n",
      "타이거너트\n",
      "동전 택시기사\n",
      "보름나물\n",
      "허영지\n",
      "첼시 맨유\n",
      "우수\n",
      "국시원\n",
      "은가누 벨라스케즈\n",
      "자이\n",
      "모바일 배틀그라운드\n",
      "내일날씨\n",
      "제이홉\n"
     ]
    }
   ],
   "source": [
    "tag_list = soup.select('.ah_k')\n",
    "\n",
    "for tag in tag_list:\n",
    "    print(tag.text)"
   ]
  },
  {
   "cell_type": "code",
   "execution_count": 81,
   "metadata": {},
   "outputs": [
    {
     "data": {
      "text/plain": [
       "['슈',\n",
       " '차현우',\n",
       " '정월대보름 오곡밥 찰밥',\n",
       " '오곡밥',\n",
       " '악마는 프라다를 입는다',\n",
       " '집행유예 뜻',\n",
       " '우수',\n",
       " '린',\n",
       " '이수',\n",
       " '동전 택시기사',\n",
       " '허영지',\n",
       " '타이거너트',\n",
       " '보름나물',\n",
       " '첼시 맨유',\n",
       " '모바일 배틀그라운드',\n",
       " '은가누 벨라스케즈',\n",
       " '내일날씨',\n",
       " '대보름',\n",
       " '보름',\n",
       " '제이홉']"
      ]
     },
     "execution_count": 81,
     "metadata": {},
     "output_type": "execute_result"
    }
   ],
   "source": [
    "import requests\n",
    "from bs4 import BeautifulSoup\n",
    "\n",
    "url = \"http://naver.com\"\n",
    "\n",
    "res = requests.get(url)\n",
    "html = res.text\n",
    "soup = BeautifulSoup(html, 'html.parser')\n",
    "tag_list = soup.select('.PM_CL_realtimeKeyword_rolling .ah_k')\n",
    "\n",
    "keyword_list = []\n",
    "for tag in tag_list:\n",
    "    keyword_list.append(tag.text)\n",
    "    \n",
    "keyword_list"
   ]
  },
  {
   "cell_type": "code",
   "execution_count": null,
   "metadata": {},
   "outputs": [],
   "source": []
  },
  {
   "cell_type": "code",
   "execution_count": null,
   "metadata": {},
   "outputs": [],
   "source": []
  },
  {
   "cell_type": "code",
   "execution_count": null,
   "metadata": {},
   "outputs": [],
   "source": []
  },
  {
   "cell_type": "code",
   "execution_count": null,
   "metadata": {},
   "outputs": [],
   "source": []
  },
  {
   "cell_type": "code",
   "execution_count": null,
   "metadata": {},
   "outputs": [],
   "source": []
  }
 ],
 "metadata": {
  "kernelspec": {
   "display_name": "Python 3",
   "language": "python",
   "name": "python3"
  },
  "language_info": {
   "codemirror_mode": {
    "name": "ipython",
    "version": 3
   },
   "file_extension": ".py",
   "mimetype": "text/x-python",
   "name": "python",
   "nbconvert_exporter": "python",
   "pygments_lexer": "ipython3",
   "version": "3.7.0"
  }
 },
 "nbformat": 4,
 "nbformat_minor": 2
}
