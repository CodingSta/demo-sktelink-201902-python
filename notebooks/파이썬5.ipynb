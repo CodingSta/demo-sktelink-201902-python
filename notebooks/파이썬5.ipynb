{
 "cells": [
  {
   "cell_type": "markdown",
   "metadata": {},
   "source": [
    "## EP06. 함수"
   ]
  },
  {
   "cell_type": "code",
   "execution_count": 1,
   "metadata": {},
   "outputs": [],
   "source": [
    "def 부가세_계산(금액):\n",
    "    부가세 = 금액 // 11\n",
    "    return 부가세"
   ]
  },
  {
   "cell_type": "code",
   "execution_count": 2,
   "metadata": {},
   "outputs": [
    {
     "data": {
      "text/plain": [
       "1818"
      ]
     },
     "execution_count": 2,
     "metadata": {},
     "output_type": "execute_result"
    }
   ],
   "source": [
    "부가세_계산(20000)"
   ]
  },
  {
   "cell_type": "code",
   "execution_count": 3,
   "metadata": {},
   "outputs": [],
   "source": [
    "def 부가세_계산2(금액):\n",
    "    부가세 = 금액 // 11\n",
    "    부가세를_뺀_금액 = 금액 - 부가세\n",
    "    return ㅇ (부가세를_뺀_금액, 부가세)"
   ]
  },
  {
   "cell_type": "code",
   "execution_count": 4,
   "metadata": {},
   "outputs": [
    {
     "data": {
      "text/plain": [
       "[18182, 1818]"
      ]
     },
     "execution_count": 4,
     "metadata": {},
     "output_type": "execute_result"
    }
   ],
   "source": [
    "부가세_계산2(20000)"
   ]
  },
  {
   "cell_type": "code",
   "execution_count": 5,
   "metadata": {},
   "outputs": [],
   "source": [
    "x, y = 1, 2"
   ]
  },
  {
   "cell_type": "code",
   "execution_count": 6,
   "metadata": {},
   "outputs": [],
   "source": [
    "금액1, 금액2 = 부가세_계산2(20000)"
   ]
  },
  {
   "cell_type": "code",
   "execution_count": 7,
   "metadata": {},
   "outputs": [
    {
     "data": {
      "text/plain": [
       "18182"
      ]
     },
     "execution_count": 7,
     "metadata": {},
     "output_type": "execute_result"
    }
   ],
   "source": [
    "금액1"
   ]
  },
  {
   "cell_type": "code",
   "execution_count": 8,
   "metadata": {},
   "outputs": [
    {
     "data": {
      "text/plain": [
       "1818"
      ]
     },
     "execution_count": 8,
     "metadata": {},
     "output_type": "execute_result"
    }
   ],
   "source": [
    "금액2"
   ]
  },
  {
   "cell_type": "code",
   "execution_count": null,
   "metadata": {},
   "outputs": [],
   "source": []
  },
  {
   "cell_type": "code",
   "execution_count": 9,
   "metadata": {},
   "outputs": [],
   "source": [
    "def 월급_계산(기본급, 야근시간):\n",
    "    return 기본급 + 야근시간 * 10000"
   ]
  },
  {
   "cell_type": "code",
   "execution_count": 10,
   "metadata": {},
   "outputs": [
    {
     "data": {
      "text/plain": [
       "1400000"
      ]
     },
     "execution_count": 10,
     "metadata": {},
     "output_type": "execute_result"
    }
   ],
   "source": [
    "월급_계산(1000000, 40)"
   ]
  },
  {
   "cell_type": "code",
   "execution_count": 11,
   "metadata": {},
   "outputs": [
    {
     "data": {
      "text/plain": [
       "10000000040"
      ]
     },
     "execution_count": 11,
     "metadata": {},
     "output_type": "execute_result"
    }
   ],
   "source": [
    "월급_계산(40, 1000000)"
   ]
  },
  {
   "cell_type": "code",
   "execution_count": 14,
   "metadata": {},
   "outputs": [
    {
     "data": {
      "text/plain": [
       "1400000"
      ]
     },
     "execution_count": 14,
     "metadata": {},
     "output_type": "execute_result"
    }
   ],
   "source": [
    "월급_계산(기본급=1000000, 야근시간=40)"
   ]
  },
  {
   "cell_type": "code",
   "execution_count": 15,
   "metadata": {},
   "outputs": [
    {
     "data": {
      "text/plain": [
       "1400000"
      ]
     },
     "execution_count": 15,
     "metadata": {},
     "output_type": "execute_result"
    }
   ],
   "source": [
    "월급_계산(야근시간=40, 기본급=1000000)"
   ]
  },
  {
   "cell_type": "code",
   "execution_count": 16,
   "metadata": {},
   "outputs": [
    {
     "data": {
      "text/plain": [
       "1400000"
      ]
     },
     "execution_count": 16,
     "metadata": {},
     "output_type": "execute_result"
    }
   ],
   "source": [
    "월급_계산(1000000, 야근시간=40)"
   ]
  },
  {
   "cell_type": "markdown",
   "metadata": {},
   "source": [
    "디폴트 인자"
   ]
  },
  {
   "cell_type": "code",
   "execution_count": 22,
   "metadata": {},
   "outputs": [],
   "source": [
    "def 월급_계산2(기본급, 야근시간=0):\n",
    "    return 기본급 + 야근시간 * 10000"
   ]
  },
  {
   "cell_type": "code",
   "execution_count": 23,
   "metadata": {},
   "outputs": [
    {
     "data": {
      "text/plain": [
       "1000000"
      ]
     },
     "execution_count": 23,
     "metadata": {},
     "output_type": "execute_result"
    }
   ],
   "source": [
    "월급_계산2(1000000)"
   ]
  },
  {
   "cell_type": "code",
   "execution_count": null,
   "metadata": {},
   "outputs": [],
   "source": []
  },
  {
   "cell_type": "code",
   "execution_count": 24,
   "metadata": {},
   "outputs": [],
   "source": [
    "import pandas as pd"
   ]
  },
  {
   "cell_type": "code",
   "execution_count": 25,
   "metadata": {},
   "outputs": [
    {
     "data": {
      "text/plain": [
       "pandas.core.frame.DataFrame"
      ]
     },
     "execution_count": 25,
     "metadata": {},
     "output_type": "execute_result"
    }
   ],
   "source": [
    "pd.DataFrame"
   ]
  },
  {
   "cell_type": "code",
   "execution_count": null,
   "metadata": {},
   "outputs": [],
   "source": []
  },
  {
   "cell_type": "code",
   "execution_count": 26,
   "metadata": {},
   "outputs": [
    {
     "name": "stdout",
     "output_type": "stream",
     "text": [
      "hello\n"
     ]
    }
   ],
   "source": [
    "print(\"hello\")"
   ]
  },
  {
   "cell_type": "code",
   "execution_count": 29,
   "metadata": {},
   "outputs": [],
   "source": [
    "sum = 0"
   ]
  },
  {
   "cell_type": "code",
   "execution_count": 30,
   "metadata": {},
   "outputs": [
    {
     "ename": "TypeError",
     "evalue": "'int' object is not callable",
     "output_type": "error",
     "traceback": [
      "\u001b[0;31m---------------------------------------------------------------------------\u001b[0m",
      "\u001b[0;31mTypeError\u001b[0m                                 Traceback (most recent call last)",
      "\u001b[0;32m<ipython-input-30-5b30f1e835bd>\u001b[0m in \u001b[0;36m<module>\u001b[0;34m()\u001b[0m\n\u001b[0;32m----> 1\u001b[0;31m \u001b[0msum\u001b[0m\u001b[0;34m(\u001b[0m\u001b[0;34m[\u001b[0m\u001b[0;36m1\u001b[0m\u001b[0;34m,\u001b[0m \u001b[0;36m2\u001b[0m\u001b[0;34m,\u001b[0m \u001b[0;36m3\u001b[0m\u001b[0;34m]\u001b[0m\u001b[0;34m)\u001b[0m\u001b[0;34m\u001b[0m\u001b[0m\n\u001b[0m",
      "\u001b[0;31mTypeError\u001b[0m: 'int' object is not callable"
     ]
    }
   ],
   "source": [
    "sum([1, 2, 3])"
   ]
  },
  {
   "cell_type": "markdown",
   "metadata": {},
   "source": [
    "### 연습문제"
   ]
  },
  {
   "cell_type": "markdown",
   "metadata": {},
   "source": [
    "1) 문자열을 인자로 받아, 단어수를 반환하는 함수를 작성하세요."
   ]
  },
  {
   "cell_type": "code",
   "execution_count": 32,
   "metadata": {},
   "outputs": [],
   "source": [
    "def 단어수_세기(문자열):\n",
    "    # TODO: 구현\n",
    "    return 10"
   ]
  },
  {
   "cell_type": "code",
   "execution_count": 33,
   "metadata": {},
   "outputs": [
    {
     "data": {
      "text/plain": [
       "['hello', 'world,', 'hello', 'python,', 'hello', 'django.']"
      ]
     },
     "execution_count": 33,
     "metadata": {},
     "output_type": "execute_result"
    }
   ],
   "source": [
    "s = \"hello world, hello python, hello django.\"\n",
    "s.split()  # 구분자(white spaces)로 구분해서, 문자열을 리스트화"
   ]
  },
  {
   "cell_type": "code",
   "execution_count": 34,
   "metadata": {},
   "outputs": [
    {
     "data": {
      "text/plain": [
       "6"
      ]
     },
     "execution_count": 34,
     "metadata": {},
     "output_type": "execute_result"
    }
   ],
   "source": [
    "len(s.split())"
   ]
  },
  {
   "cell_type": "code",
   "execution_count": 38,
   "metadata": {},
   "outputs": [
    {
     "name": "stdout",
     "output_type": "stream",
     "text": [
      "8\n",
      "2\n"
     ]
    }
   ],
   "source": [
    "s = \"안녕, 세상아.\"\n",
    "print(len(s))  # 글자수\n",
    "print(len(s.split()))  # 단어수"
   ]
  },
  {
   "cell_type": "code",
   "execution_count": 39,
   "metadata": {},
   "outputs": [],
   "source": [
    "def 단어수_세기(문자열):\n",
    "    return len(문자열.split())"
   ]
  },
  {
   "cell_type": "code",
   "execution_count": 40,
   "metadata": {},
   "outputs": [
    {
     "data": {
      "text/plain": [
       "2"
      ]
     },
     "execution_count": 40,
     "metadata": {},
     "output_type": "execute_result"
    }
   ],
   "source": [
    "단어수_세기(\"안녕, 세상아\")"
   ]
  },
  {
   "cell_type": "markdown",
   "metadata": {},
   "source": [
    "2) 문자열을 인자로 받아, 공백을 제외한 글자수"
   ]
  },
  {
   "cell_type": "code",
   "execution_count": 42,
   "metadata": {},
   "outputs": [],
   "source": [
    "s = \"hello world, hello python, hello django.\""
   ]
  },
  {
   "cell_type": "code",
   "execution_count": 43,
   "metadata": {},
   "outputs": [
    {
     "data": {
      "text/plain": [
       "35"
      ]
     },
     "execution_count": 43,
     "metadata": {},
     "output_type": "execute_result"
    }
   ],
   "source": [
    "글자수 = 0\n",
    "\n",
    "for 글자 in s:    \n",
    "    if 글자 != ' ':  # 글자가 공백이 아니라면 ...\n",
    "        글자수 += 1\n",
    "        \n",
    "글자수"
   ]
  },
  {
   "cell_type": "code",
   "execution_count": 44,
   "metadata": {},
   "outputs": [
    {
     "data": {
      "text/plain": [
       "40"
      ]
     },
     "execution_count": 44,
     "metadata": {},
     "output_type": "execute_result"
    }
   ],
   "source": [
    "len(s)"
   ]
  },
  {
   "cell_type": "code",
   "execution_count": 48,
   "metadata": {},
   "outputs": [],
   "source": [
    "def 공백이_아닌_글자수_세기(문자열):\n",
    "    글자수 = 0\n",
    "\n",
    "    for 글자 in 문자열:    \n",
    "        if 글자 != ' ':  # 글자가 공백이 아니라면 ...\n",
    "            글자수 += 1\n",
    "\n",
    "    return 글자수"
   ]
  },
  {
   "cell_type": "code",
   "execution_count": 49,
   "metadata": {},
   "outputs": [
    {
     "data": {
      "text/plain": [
       "6"
      ]
     },
     "execution_count": 49,
     "metadata": {},
     "output_type": "execute_result"
    }
   ],
   "source": [
    "공백이_아닌_글자수_세기(\"안녕, 세상아\")"
   ]
  },
  {
   "cell_type": "code",
   "execution_count": null,
   "metadata": {},
   "outputs": [],
   "source": []
  },
  {
   "cell_type": "code",
   "execution_count": 50,
   "metadata": {},
   "outputs": [
    {
     "data": {
      "text/plain": [
       "158595"
      ]
     },
     "execution_count": 50,
     "metadata": {},
     "output_type": "execute_result"
    }
   ],
   "source": [
    "import requests\n",
    "\n",
    "res = requests.get(\"http://naver.com\")\n",
    "\n",
    "공백이_아닌_글자수_세기(res.text)"
   ]
  },
  {
   "cell_type": "code",
   "execution_count": null,
   "metadata": {},
   "outputs": [],
   "source": []
  },
  {
   "cell_type": "markdown",
   "metadata": {},
   "source": [
    "## xlwings 예시"
   ]
  },
  {
   "cell_type": "code",
   "execution_count": 51,
   "metadata": {},
   "outputs": [],
   "source": [
    "import requests\n",
    "from bs4 import BeautifulSoup"
   ]
  },
  {
   "cell_type": "code",
   "execution_count": 53,
   "metadata": {},
   "outputs": [],
   "source": [
    "def 네이버_실검():\n",
    "    res = requests.get(\"http://naver.com\")\n",
    "    html = res.text\n",
    "    soup = BeautifulSoup(html, 'html.parser')\n",
    "    tag_list = soup.select('.PM_CL_realtimeKeyword_rolling .ah_k')\n",
    "\n",
    "    keyword_list = []\n",
    "\n",
    "    for tag in tag_list:\n",
    "        label = tag.text\n",
    "        keyword_list.append(label)\n",
    "\n",
    "    return keyword_list"
   ]
  },
  {
   "cell_type": "code",
   "execution_count": 56,
   "metadata": {},
   "outputs": [],
   "source": [
    "keyword_list = 네이버_실검()"
   ]
  },
  {
   "cell_type": "code",
   "execution_count": 57,
   "metadata": {},
   "outputs": [],
   "source": [
    "import xlwings as xw  # anaconda python에 기본 설치"
   ]
  },
  {
   "cell_type": "code",
   "execution_count": 58,
   "metadata": {},
   "outputs": [],
   "source": [
    "xw.view(keyword_list)"
   ]
  },
  {
   "cell_type": "code",
   "execution_count": null,
   "metadata": {},
   "outputs": [],
   "source": []
  },
  {
   "cell_type": "markdown",
   "metadata": {},
   "source": [
    "## EP07. 주요 빌트인 함수와 정렬"
   ]
  },
  {
   "cell_type": "code",
   "execution_count": 72,
   "metadata": {},
   "outputs": [],
   "source": [
    "number_list = [40, 36, 12, 24]"
   ]
  },
  {
   "cell_type": "code",
   "execution_count": 73,
   "metadata": {},
   "outputs": [
    {
     "data": {
      "text/plain": [
       "[40, 36, 24, 12]"
      ]
     },
     "execution_count": 73,
     "metadata": {},
     "output_type": "execute_result"
    }
   ],
   "source": [
    "sorted(number_list, reverse=True)"
   ]
  },
  {
   "cell_type": "code",
   "execution_count": 74,
   "metadata": {},
   "outputs": [],
   "source": [
    "def fn(value):\n",
    "    return value % 10"
   ]
  },
  {
   "cell_type": "code",
   "execution_count": 75,
   "metadata": {},
   "outputs": [
    {
     "data": {
      "text/plain": [
       "[40, 12, 24, 36]"
      ]
     },
     "execution_count": 75,
     "metadata": {},
     "output_type": "execute_result"
    }
   ],
   "source": [
    "sorted(number_list, afn)"
   ]
  },
  {
   "cell_type": "code",
   "execution_count": 76,
   "metadata": {},
   "outputs": [
    {
     "data": {
      "text/plain": [
       "[36, 24, 12, 40]"
      ]
     },
     "execution_count": 76,
     "metadata": {},
     "output_type": "execute_result"
    }
   ],
   "source": [
    "sorted(number_list, key=fn, reverse=True)"
   ]
  },
  {
   "cell_type": "code",
   "execution_count": null,
   "metadata": {},
   "outputs": [],
   "source": []
  },
  {
   "cell_type": "code",
   "execution_count": 86,
   "metadata": {},
   "outputs": [],
   "source": [
    "# 1) 데이터를 로컬에 다운받아, 멜론_TOP100.csv 파일로 저장\n",
    "import requests\n",
    "\n",
    "res = requests.get(\"https://goo.gl/iDUKrL\")\n",
    "with open(\"멜론_TOP100.csv\", \"wt\", encoding=\"utf8\") as f:\n",
    "    f.write(res.text)\n",
    "\n",
    "# 2) 로컬의 CSV 데이터를 리스트(내부 dict)구조로 획득\n",
    "import csv\n",
    "\n",
    "with open(\"멜론_TOP100.csv\", \"rt\", encoding=\"utf8\") as f:\n",
    "    reader = csv.DictReader(f)\n",
    "    멜론_top100_리스트 = list(reader)"
   ]
  },
  {
   "cell_type": "code",
   "execution_count": 87,
   "metadata": {},
   "outputs": [
    {
     "data": {
      "text/plain": [
       "100"
      ]
     },
     "execution_count": 87,
     "metadata": {},
     "output_type": "execute_result"
    }
   ],
   "source": [
    "len(멜론_top100_리스트)"
   ]
  },
  {
   "cell_type": "code",
   "execution_count": 100,
   "metadata": {},
   "outputs": [
    {
     "data": {
      "text/plain": [
       "OrderedDict([('곡일련번호', '31346009'),\n",
       "             ('순위', '1'),\n",
       "             ('앨범', '삐삐'),\n",
       "             ('곡명', '삐삐'),\n",
       "             ('가수', '아이유'),\n",
       "             ('커버이미지_주소',\n",
       "              'https://cdnimg.melon.co.kr/cm/album/images/102/10/535/10210535_500.jpg/melon/resize/120/quality/80/optimize'),\n",
       "             ('좋아요', '61528')])"
      ]
     },
     "execution_count": 100,
     "metadata": {},
     "output_type": "execute_result"
    }
   ],
   "source": [
    "멜론_top100_리스트[0]"
   ]
  },
  {
   "cell_type": "code",
   "execution_count": 101,
   "metadata": {},
   "outputs": [
    {
     "name": "stdout",
     "output_type": "stream",
     "text": [
      "1234\n",
      "1234\n"
     ]
    }
   ],
   "source": [
    "print(\"1234\")\n",
    "print(1234)"
   ]
  },
  {
   "cell_type": "code",
   "execution_count": 88,
   "metadata": {},
   "outputs": [
    {
     "data": {
      "text/plain": [
       "list"
      ]
     },
     "execution_count": 88,
     "metadata": {},
     "output_type": "execute_result"
    }
   ],
   "source": [
    "type(멜론_top100_리스트)"
   ]
  },
  {
   "cell_type": "code",
   "execution_count": 94,
   "metadata": {},
   "outputs": [
    {
     "data": {
      "text/plain": [
       "'Stay'"
      ]
     },
     "execution_count": 94,
     "metadata": {},
     "output_type": "execute_result"
    }
   ],
   "source": [
    "멜론_top100_리스트[99]['곡명']"
   ]
  },
  {
   "cell_type": "code",
   "execution_count": 104,
   "metadata": {},
   "outputs": [
    {
     "data": {
      "text/plain": [
       "'EXO'"
      ]
     },
     "execution_count": 104,
     "metadata": {},
     "output_type": "execute_result"
    }
   ],
   "source": [
    "멜론_top100_리스트[99]['가수']"
   ]
  },
  {
   "cell_type": "markdown",
   "metadata": {},
   "source": [
    "좋아요 내림차순 정렬"
   ]
  },
  {
   "cell_type": "code",
   "execution_count": 102,
   "metadata": {},
   "outputs": [],
   "source": [
    "def sort_fn(곡):\n",
    "    return int(곡['좋아요'])\n",
    "\n",
    "정렬된_리스트 = sorted(멜론_top100_리스트, key=sort_fn, reverse=True)"
   ]
  },
  {
   "cell_type": "code",
   "execution_count": 103,
   "metadata": {},
   "outputs": [
    {
     "name": "stdout",
     "output_type": "stream",
     "text": [
      "봄날 방탄소년단 359130\n",
      "DNA 방탄소년단 323911\n",
      "밤편지 아이유 283167\n",
      "에너제틱 (Energetic) Wanna One (워너원) 268394\n",
      "사랑을 했다 (LOVE SCENARIO) iKON 267692\n",
      "선물 멜로망스 266869\n",
      "FAKE LOVE 방탄소년단 253847\n",
      "Way Back Home 숀 (SHAUN) 225308\n",
      "Beautiful Wanna One (워너원) 216065\n",
      "그날처럼 장덕철 208427\n",
      "그리워하다 비투비 203463\n",
      "뚜두뚜두 (DDU-DU DDU-DU) BLACKPINK 192831\n",
      "여행 볼빨간사춘기 190489\n",
      "모든 날, 모든 순간 (Every day, Every Moment) 폴킴 185706\n",
      "지나오다 닐로 (Nilo) 178367\n",
      "전하지 못한 진심 (Feat. Steve Aoki) 방탄소년단 176653\n",
      "그때 헤어지면 돼 로이킴 176025\n",
      "IDOL 방탄소년단 173279\n",
      "비 폴킴 156761\n",
      "HandClap Fitz & The Tantrums 156476\n",
      "Universe EXO 155809\n",
      "주지마 로꼬 154263\n",
      "별이 빛나는 밤 마마무(Mamamoo) 145494\n",
      "You 멜로망스 141103\n",
      "Anpanman 방탄소년단 138694\n",
      "약속해요 (I.P.U.) Wanna One (워너원) 137141\n",
      "I`m Fine 방탄소년단 132847\n",
      "너 없인 안 된다 비투비 132726\n",
      "Power Up Red Velvet (레드벨벳) 130949\n",
      "소나기 (Feat. 10cm) 용준형 130935\n",
      "Euphoria 방탄소년단 129017\n",
      "Airplane pt.2 방탄소년단 127355\n",
      "Dance The Night Away TWICE (트와이스) 127052\n",
      "여보세요 NU`EST 126064\n",
      "밤 (Time for the moon night) 여자친구 (GFRIEND) 125760\n",
      "BOOMERANG (부메랑) Wanna One (워너원) 124968\n",
      "What is Love? TWICE (트와이스) 121530\n",
      "My Way 이수 (엠씨 더 맥스) 119657\n",
      "Forever Young BLACKPINK 119422\n",
      "미안해 양다일 115955\n",
      "열애중 벤 115805\n",
      "SoulMate (Feat. 아이유) 지코 (ZICO) 113443\n",
      "켜줘 (Light) Wanna One (워너원) 112878\n",
      "花요일 (Blooming Day) EXO-CBX (첸백시) 110311\n",
      "가을 안부 먼데이 키즈 (Monday Kiz) 109447\n",
      "Answer : Love Myself 방탄소년단 108151\n",
      "캥거루 (Kangaroo) (Prod. ZICO) Wanna One (워너원) - 트리플포지션 104852\n",
      "Epiphany 방탄소년단 101011\n",
      "Trivia 轉 : Seesaw 방탄소년단 98436\n",
      "하루도 그대를 사랑하지 않은 적이 없었다 임창정 97984\n",
      "우리 그만하자 로이킴 95771\n",
      "너나 해 (Egotistic) 마마무(Mamamoo) 94861\n",
      "WHERE YOU AT 뉴이스트 W 92753\n",
      "사이렌 (Siren) 선미 91516\n",
      "YOUNG 백현 (BAEKHYUN) 91106\n",
      "Trivia 起 : Just Dance 방탄소년단 88970\n",
      "지나갈 테니 (Been Through) EXO 88331\n",
      "1도 없어 Apink (에이핑크) 88037\n",
      "Trivia 承 : Love 방탄소년단 83610\n",
      "모래시계 (Prod. 헤이즈) Wanna One (워너원) - 더힐 83296\n",
      "Stay EXO 81556\n",
      "동화 멜로망스 81522\n",
      "넋두리 닐로 (Nilo) 81028\n",
      "셋 셀테니 (1, 2, 3!) 승리 78381\n",
      "헤어지는 중 펀치 (Punch) 77050\n",
      "영원+1 (Prod. NELL) Wanna One (워너원) - 린온미 76313\n",
      "A-TEEN 세븐틴 75932\n",
      "flex (Prod. By 기리보이) 기리보이 72135\n",
      "한(一) (여자)아이들 69062\n",
      "11 (Prod. 다이나믹듀오) Wanna One (워너원) - 남바완 67211\n",
      "죽겠다 (KILLING ME) iKON 66253\n",
      "어쩌나 세븐틴 64770\n",
      "매트리스 10cm 62312\n",
      "Love U 청하 61670\n",
      "삐삐 아이유 61528\n",
      "이별길 (GOODBYE ROAD) iKON 55396\n",
      "Good Day (Feat. 팔로알토) (Prod. 코드 쿤스트) pH-1 54022\n",
      "We Young 찬열 53852\n",
      "Dejavu 뉴이스트 W 53081\n",
      "도망가지마 모트 (Motte) 48716\n",
      "시간이 들겠지 (Feat. Colde) 로꼬 48331\n",
      "IndiGO 저스디스 (JUSTHIS) 46739\n",
      "몰랐니 (Lil` Touch) 소녀시대-Oh!GG 42853\n",
      "좋은 날 멜로망스 33146\n",
      "북극성 (Polaris) 뉴이스트 W 32098\n",
      "Sheep (Alan Walker Relift) 레이 (LAY) 30411\n",
      "가을 타나 봐 바이브 28056\n",
      "사임사임 (Feat. CHANGMO) Coogie 27564\n",
      "Signal 뉴이스트 W 27270\n",
      "나 박원 26696\n",
      "ylenoL 뉴이스트 W 26136\n",
      "중력달 (Gravity&Moon;) 뉴이스트 W 26091\n",
      "이별하러 가는 길 임한별 25182\n",
      "잘 지내요 정승환 25169\n",
      "Perfect 10cm 24732\n",
      "AND I 뉴이스트 W 20736\n",
      "I Don’t Care (with 스푼즈) 뉴이스트 W 13544\n",
      "공상과학기술 (Feat. 기리보이, 스윙스) nafla 13148\n",
      "패 (Feat. 넉살, 딥플로우) 김효은 10536\n",
      "Not A Love 바이브 2508\n"
     ]
    }
   ],
   "source": [
    "for 곡 in 정렬된_리스트:\n",
    "    print(곡['곡명'], 곡['가수'], 곡['좋아요'])"
   ]
  },
  {
   "cell_type": "markdown",
   "metadata": {},
   "source": [
    "방탄소년단의 노래만 `print`"
   ]
  },
  {
   "cell_type": "code",
   "execution_count": 112,
   "metadata": {},
   "outputs": [
    {
     "name": "stdout",
     "output_type": "stream",
     "text": [
      "IDOL\n",
      "I`m Fine\n",
      "FAKE LOVE\n",
      "Euphoria\n",
      "Answer : Love Myself\n",
      "전하지 못한 진심 (Feat. Steve Aoki)\n",
      "Epiphany\n",
      "Trivia 轉 : Seesaw\n",
      "Trivia 起 : Just Dance\n",
      "Trivia 承 : Love\n",
      "Anpanman\n",
      "봄날\n",
      "DNA\n",
      "Airplane pt.2\n"
     ]
    }
   ],
   "source": [
    "for 곡 in 멜론_top100_리스트:\n",
    "    if 곡['가수'] == '방탄소년단':\n",
    "        print(곡['곡명'])"
   ]
  },
  {
   "cell_type": "code",
   "execution_count": 111,
   "metadata": {},
   "outputs": [
    {
     "data": {
      "text/plain": [
       "True"
      ]
     },
     "execution_count": 111,
     "metadata": {},
     "output_type": "execute_result"
    }
   ],
   "source": [
    "\"가을\" in \"가을의 전설\""
   ]
  },
  {
   "cell_type": "code",
   "execution_count": 114,
   "metadata": {},
   "outputs": [
    {
     "name": "stdout",
     "output_type": "stream",
     "text": [
      "가을 타나 봐\n",
      "가을 안부\n"
     ]
    }
   ],
   "source": [
    "for 곡 in 멜론_top100_리스트:\n",
    "    if '가을' in 곡['곡명']:\n",
    "        print(곡['곡명'])"
   ]
  },
  {
   "cell_type": "code",
   "execution_count": 119,
   "metadata": {},
   "outputs": [
    {
     "name": "stdout",
     "output_type": "stream",
     "text": [
      "FAKE LOVE\n",
      "Way Back Home\n",
      "봄날\n",
      "DNA\n",
      "에너제틱 (Energetic)\n",
      "사랑을 했다 (LOVE SCENARIO)\n",
      "Beautiful\n",
      "밤편지\n",
      "그날처럼\n",
      "그리워하다\n",
      "선물\n"
     ]
    },
    {
     "data": {
      "text/plain": [
       "11"
      ]
     },
     "execution_count": 119,
     "metadata": {},
     "output_type": "execute_result"
    }
   ],
   "source": [
    "곡수 = 0\n",
    "\n",
    "for 곡 in 멜론_top100_리스트:\n",
    "    if int(곡['좋아요']) > 200000:\n",
    "        print(곡['곡명'])\n",
    "        곡수 += 1\n",
    "\n",
    "곡수"
   ]
  },
  {
   "cell_type": "code",
   "execution_count": null,
   "metadata": {},
   "outputs": [],
   "source": []
  },
  {
   "cell_type": "code",
   "execution_count": 137,
   "metadata": {},
   "outputs": [],
   "source": [
    "가수별_곡수 = {}"
   ]
  },
  {
   "cell_type": "code",
   "execution_count": 142,
   "metadata": {},
   "outputs": [],
   "source": [
    "가수별_곡수['아이유'] = []  # 사전에서 key:value를 대입하는 코드"
   ]
  },
  {
   "cell_type": "code",
   "execution_count": 143,
   "metadata": {},
   "outputs": [
    {
     "data": {
      "text/plain": [
       "{'아이유': []}"
      ]
     },
     "execution_count": 143,
     "metadata": {},
     "output_type": "execute_result"
    }
   ],
   "source": [
    "가수별_곡수"
   ]
  },
  {
   "cell_type": "code",
   "execution_count": null,
   "metadata": {},
   "outputs": [],
   "source": []
  },
  {
   "cell_type": "code",
   "execution_count": null,
   "metadata": {},
   "outputs": [],
   "source": []
  },
  {
   "cell_type": "code",
   "execution_count": 144,
   "metadata": {},
   "outputs": [
    {
     "data": {
      "text/plain": [
       "{'아이유': 2,\n",
       " '로꼬': 2,\n",
       " 'pH-1': 1,\n",
       " '임창정': 1,\n",
       " '방탄소년단': 14,\n",
       " 'iKON': 3,\n",
       " 'Coogie': 1,\n",
       " '로이킴': 2,\n",
       " '바이브': 2,\n",
       " '펀치 (Punch)': 1,\n",
       " '폴킴': 2,\n",
       " '백현 (BAEKHYUN)': 1,\n",
       " '선미': 1,\n",
       " '벤': 1,\n",
       " '숀 (SHAUN)': 1,\n",
       " 'EXO': 3,\n",
       " '찬열': 1,\n",
       " '기리보이': 1,\n",
       " 'EXO-CBX (첸백시)': 1,\n",
       " '저스디스 (JUSTHIS)': 1,\n",
       " '레이 (LAY)': 1,\n",
       " 'BLACKPINK': 2,\n",
       " '닐로 (Nilo)': 2,\n",
       " 'TWICE (트와이스)': 2,\n",
       " '박원': 1,\n",
       " 'Wanna One (워너원)': 5,\n",
       " 'Red Velvet (레드벨벳)': 1,\n",
       " '임한별': 1,\n",
       " '볼빨간사춘기': 1,\n",
       " 'Wanna One (워너원) - 트리플포지션': 1,\n",
       " '마마무(Mamamoo)': 2,\n",
       " '양다일': 1,\n",
       " '먼데이 키즈 (Monday Kiz)': 1,\n",
       " '비투비': 2,\n",
       " '멜로망스': 4,\n",
       " '승리': 1,\n",
       " 'Apink (에이핑크)': 1,\n",
       " '지코 (ZICO)': 1,\n",
       " '세븐틴': 2,\n",
       " '장덕철': 1,\n",
       " 'Wanna One (워너원) - 더힐': 1,\n",
       " '10cm': 2,\n",
       " 'nafla': 1,\n",
       " '(여자)아이들': 1,\n",
       " '뉴이스트 W': 8,\n",
       " '김효은': 1,\n",
       " '모트 (Motte)': 1,\n",
       " '이수 (엠씨 더 맥스)': 1,\n",
       " 'Wanna One (워너원) - 린온미': 1,\n",
       " '용준형': 1,\n",
       " 'Wanna One (워너원) - 남바완': 1,\n",
       " 'NU`EST': 1,\n",
       " '정승환': 1,\n",
       " 'Fitz & The Tantrums': 1,\n",
       " '여자친구 (GFRIEND)': 1,\n",
       " '청하': 1,\n",
       " '소녀시대-Oh!GG': 1}"
      ]
     },
     "execution_count": 144,
     "metadata": {},
     "output_type": "execute_result"
    }
   ],
   "source": [
    "가수별_곡수 = {}\n",
    "\n",
    "for 곡 in 멜론_top100_리스트:\n",
    "    가수명 = 곡['가수']\n",
    "    # 가수명이 가수별_곡수 사전에 Key로서 등록이 되어있지 않다면?\n",
    "    if 가수명 not in 가수별_곡수:\n",
    "        가수별_곡수[가수명] = 1\n",
    "    else:\n",
    "        가수별_곡수[가수명] += 1\n",
    "    \n",
    "가수별_곡수"
   ]
  },
  {
   "cell_type": "code",
   "execution_count": 129,
   "metadata": {},
   "outputs": [],
   "source": [
    "import pandas as pd\n",
    "\n",
    "series = pd.Series(가수별_곡수).sort_values()"
   ]
  },
  {
   "cell_type": "code",
   "execution_count": 130,
   "metadata": {},
   "outputs": [],
   "source": [
    "%matplotlib inline"
   ]
  },
  {
   "cell_type": "code",
   "execution_count": 136,
   "metadata": {},
   "outputs": [
    {
     "data": {
      "text/plain": [
       "<matplotlib.axes._subplots.AxesSubplot at 0x122e3cdd8>"
      ]
     },
     "execution_count": 136,
     "metadata": {},
     "output_type": "execute_result"
    },
    {
     "data": {
      "image/png": "[encoded data removed]",
      "text/plain": [
       "<Figure size 432x288 with 1 Axes>"
      ]
     },
     "metadata": {},
     "output_type": "display_data"
    }
   ],
   "source": [
    "series[-10:].plot(kind='pie')"
   ]
  },
  {
   "cell_type": "code",
   "execution_count": null,
   "metadata": {},
   "outputs": [],
   "source": []
  },
  {
   "cell_type": "code",
   "execution_count": null,
   "metadata": {},
   "outputs": [],
   "source": []
  }
 ],
 "metadata": {
  "kernelspec": {
   "display_name": "Python 3",
   "language": "python",
   "name": "python3"
  },
  "language_info": {
   "codemirror_mode": {
    "name": "ipython",
    "version": 3
   },
   "file_extension": ".py",
   "mimetype": "text/x-python",
   "name": "python",
   "nbconvert_exporter": "python",
   "pygments_lexer": "ipython3",
   "version": "3.7.0"
  }
 },
 "nbformat": 4,
 "nbformat_minor": 2
}
