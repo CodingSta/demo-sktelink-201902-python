{
 "cells": [
  {
   "cell_type": "markdown",
   "metadata": {},
   "source": [
    "## 장식자 (Decorators)"
   ]
  },
  {
   "cell_type": "code",
   "execution_count": 1,
   "metadata": {},
   "outputs": [],
   "source": [
    "def base(시작값):\n",
    "    i = 0\n",
    "    fn = lambda x, y: x + y + 시작값  # 익명함수\n",
    "    return fn"
   ]
  },
  {
   "cell_type": "code",
   "execution_count": 5,
   "metadata": {},
   "outputs": [],
   "source": [
    "def base(시작값):\n",
    "    i = 0\n",
    "    def fn(x, y):  # 익명함수 대신, 함수를 직정 정의하셔도 됩니다.\n",
    "        return x + y + 시작값\n",
    "    return fn"
   ]
  },
  {
   "cell_type": "code",
   "execution_count": 8,
   "metadata": {},
   "outputs": [],
   "source": [
    "# 아래와 같이 만들 필요없이, base 함수를 활용하세요.\n",
    "# def base_10(x, y):\n",
    "#     return x + y + 10\n",
    "# def base_20(x, y):\n",
    "#     return x + y + 20\n",
    "# def base_30(x, y):\n",
    "#     return x + y + 30\n",
    "\n",
    "base_10 = base(10)\n",
    "base_20 = base(20)\n",
    "base_30 = base(30)"
   ]
  },
  {
   "cell_type": "code",
   "execution_count": null,
   "metadata": {},
   "outputs": [],
   "source": []
  },
  {
   "cell_type": "code",
   "execution_count": 4,
   "metadata": {},
   "outputs": [
    {
     "name": "stdout",
     "output_type": "stream",
     "text": [
      "13\n",
      "13\n"
     ]
    }
   ],
   "source": [
    "def mysum1(x, y):\n",
    "    return x + y + 10\n",
    "\n",
    "mysum2 = lambda x, y: x + y + 10\n",
    "\n",
    "print(mysum1(1, 2))\n",
    "print(mysum2(1, 2))"
   ]
  },
  {
   "cell_type": "code",
   "execution_count": null,
   "metadata": {},
   "outputs": [],
   "source": []
  }
 ],
 "metadata": {
  "kernelspec": {
   "display_name": "Python 3",
   "language": "python",
   "name": "python3"
  },
  "language_info": {
   "codemirror_mode": {
    "name": "ipython",
    "version": 3
   },
   "file_extension": ".py",
   "mimetype": "text/x-python",
   "name": "python",
   "nbconvert_exporter": "python",
   "pygments_lexer": "ipython3",
   "version": "3.7.0"
  }
 },
 "nbformat": 4,
 "nbformat_minor": 2
}
