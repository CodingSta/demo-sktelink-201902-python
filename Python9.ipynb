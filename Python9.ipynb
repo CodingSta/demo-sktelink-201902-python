{
 "cells": [
  {
   "cell_type": "markdown",
   "metadata": {},
   "source": [
    "## 장식자 (Decorators)"
   ]
  },
  {
   "cell_type": "code",
   "execution_count": 1,
   "metadata": {},
   "outputs": [],
   "source": [
    "def base(시작값):\n",
    "    i = 0\n",
    "    fn = lambda x, y: x + y + 시작값  # 익명함수\n",
    "    return fn"
   ]
  },
  {
   "cell_type": "code",
   "execution_count": 5,
   "metadata": {},
   "outputs": [],
   "source": [
    "def base(시작값):\n",
    "    i = 0\n",
    "    def fn(x, y):  # 익명함수 대신, 함수를 직정 정의하셔도 됩니다.\n",
    "        return x + y + 시작값\n",
    "    return fn"
   ]
  },
  {
   "cell_type": "code",
   "execution_count": 8,
   "metadata": {},
   "outputs": [],
   "source": [
    "# 아래와 같이 만들 필요없이, base 함수를 활용하세요.\n",
    "# def base_10(x, y):\n",
    "#     return x + y + 10\n",
    "# def base_20(x, y):\n",
    "#     return x + y + 20\n",
    "# def base_30(x, y):\n",
    "#     return x + y + 30\n",
    "\n",
    "base_10 = base(10)\n",
    "base_20 = base(20)\n",
    "base_30 = base(30)"
   ]
  },
  {
   "cell_type": "code",
   "execution_count": null,
   "metadata": {},
   "outputs": [],
   "source": []
  },
  {
   "cell_type": "code",
   "execution_count": 4,
   "metadata": {},
   "outputs": [
    {
     "name": "stdout",
     "output_type": "stream",
     "text": [
      "13\n",
      "13\n"
     ]
    }
   ],
   "source": [
    "def mysum1(x, y):\n",
    "    return x + y + 10\n",
    "\n",
    "mysum2 = lambda x, y: x + y + 10\n",
    "\n",
    "print(mysum1(1, 2))\n",
    "print(mysum2(1, 2))"
   ]
  },
  {
   "cell_type": "markdown",
   "metadata": {},
   "source": [
    "### 정말 장식자 만들기"
   ]
  },
  {
   "cell_type": "code",
   "execution_count": 22,
   "metadata": {},
   "outputs": [],
   "source": [
    "# base_10이라는 장식자 구현\n",
    "def base_10(fn):\n",
    "    def wrap(x, y):\n",
    "        return fn(x, y) + 10\n",
    "    return wrap"
   ]
  },
  {
   "cell_type": "code",
   "execution_count": 25,
   "metadata": {},
   "outputs": [
    {
     "data": {
      "text/plain": [
       "<function __main__.base_10.<locals>.wrap(x, y)>"
      ]
     },
     "execution_count": 25,
     "metadata": {},
     "output_type": "execute_result"
    }
   ],
   "source": [
    "def mysum(x, y):\n",
    "    return x + y\n",
    "\n",
    "mysum = base_10(mysum)\n",
    "mysum"
   ]
  },
  {
   "cell_type": "code",
   "execution_count": 26,
   "metadata": {},
   "outputs": [
    {
     "data": {
      "text/plain": [
       "13"
      ]
     },
     "execution_count": 26,
     "metadata": {},
     "output_type": "execute_result"
    }
   ],
   "source": [
    "mysum(1, 2)"
   ]
  },
  {
   "cell_type": "code",
   "execution_count": null,
   "metadata": {},
   "outputs": [],
   "source": []
  },
  {
   "cell_type": "code",
   "execution_count": 27,
   "metadata": {},
   "outputs": [],
   "source": [
    "i = 10\n",
    "\n",
    "i = i + 10"
   ]
  },
  {
   "cell_type": "code",
   "execution_count": null,
   "metadata": {},
   "outputs": [],
   "source": []
  },
  {
   "cell_type": "code",
   "execution_count": null,
   "metadata": {},
   "outputs": [],
   "source": [
    "def mysum(x, y):\n",
    "    return x + y\n",
    "\n",
    "mysum = base_10(mysum)"
   ]
  },
  {
   "cell_type": "code",
   "execution_count": 29,
   "metadata": {},
   "outputs": [
    {
     "data": {
      "text/plain": [
       "13"
      ]
     },
     "execution_count": 29,
     "metadata": {},
     "output_type": "execute_result"
    }
   ],
   "source": [
    "# 위 코드를 장식자 문법으로 아래와 같이 정리\n",
    "@base_10\n",
    "def mysum(x, y):\n",
    "    return x + y\n",
    "\n",
    "mysum(1, 2)"
   ]
  },
  {
   "cell_type": "code",
   "execution_count": 30,
   "metadata": {},
   "outputs": [
    {
     "data": {
      "text/plain": [
       "33"
      ]
     },
     "execution_count": 30,
     "metadata": {},
     "output_type": "execute_result"
    }
   ],
   "source": [
    "@base_10\n",
    "@base_10\n",
    "@base_10\n",
    "def mysum(x, y):\n",
    "    return x + y\n",
    "\n",
    "mysum(1, 2)"
   ]
  },
  {
   "cell_type": "code",
   "execution_count": null,
   "metadata": {},
   "outputs": [],
   "source": []
  },
  {
   "cell_type": "markdown",
   "metadata": {},
   "source": [
    "아래 `mypower`함수에 `base_30` 장식자를 적용해보세요.\n",
    "\n",
    "`mypower(2, 4)` 의 반환값은 `46`이 되어야 합니다."
   ]
  },
  {
   "cell_type": "code",
   "execution_count": 34,
   "metadata": {},
   "outputs": [
    {
     "name": "stdout",
     "output_type": "stream",
     "text": [
      "46\n",
      "38\n"
     ]
    }
   ],
   "source": [
    "# TODO: ...\n",
    "def base_30(fn):\n",
    "    def wrap(x, y):\n",
    "        return fn(x, y) + 30\n",
    "    return wrap\n",
    "\n",
    "@base_30\n",
    "def mypower(x, y):\n",
    "    return x ** y\n",
    "\n",
    "@base_30\n",
    "def mymultiply(x, y):\n",
    "    return x * y\n",
    "\n",
    "print(mypower(2, 4))\n",
    "print(mymultiply(2, 4))"
   ]
  },
  {
   "cell_type": "code",
   "execution_count": null,
   "metadata": {},
   "outputs": [],
   "source": []
  },
  {
   "cell_type": "markdown",
   "metadata": {},
   "source": [
    "### 장식자를 만들어주는 함수"
   ]
  },
  {
   "cell_type": "code",
   "execution_count": 43,
   "metadata": {},
   "outputs": [],
   "source": [
    "def base(시작값):\n",
    "    def wrap(fn):\n",
    "        def inner(x, y):\n",
    "            return fn(x, y) + 시작값\n",
    "        return inner\n",
    "    return wrap"
   ]
  },
  {
   "cell_type": "code",
   "execution_count": 44,
   "metadata": {},
   "outputs": [
    {
     "data": {
      "text/plain": [
       "63"
      ]
     },
     "execution_count": 44,
     "metadata": {},
     "output_type": "execute_result"
    }
   ],
   "source": [
    "@base(10)\n",
    "@base(20)\n",
    "@base(30)\n",
    "def mysum(x, y):\n",
    "    return x + y\n",
    "\n",
    "mysum(1, 2)"
   ]
  },
  {
   "cell_type": "markdown",
   "metadata": {},
   "source": [
    "장고에서의 `View`예시\n",
    "\n",
    "```python\n",
    "@gold_membership_required\n",
    "def post_list(request):\n",
    "    qs = Post.objects.all()\n",
    "    return render(request, 'blog/post_list.html', {\n",
    "        'post_list': qs,\n",
    "    })\n",
    "```"
   ]
  },
  {
   "cell_type": "markdown",
   "metadata": {},
   "source": [
    "### 예시: Memoize"
   ]
  },
  {
   "cell_type": "code",
   "execution_count": 47,
   "metadata": {},
   "outputs": [
    {
     "name": "stdout",
     "output_type": "stream",
     "text": [
      "3\n",
      "3\n",
      "3\n",
      "4\n"
     ]
    }
   ],
   "source": [
    "import time\n",
    "\n",
    "def mysum2(x, y):\n",
    "    time.sleep(1)\n",
    "    return x + y\n",
    "\n",
    "print(mysum2(1, 2))\n",
    "print(mysum2(1, 2))\n",
    "print(mysum2(1, 2))\n",
    "\n",
    "print(mysum2(1, 3))"
   ]
  },
  {
   "cell_type": "markdown",
   "metadata": {},
   "source": [
    "계산결과를 `기억`하도록, 개선해봅시다."
   ]
  },
  {
   "cell_type": "code",
   "execution_count": 54,
   "metadata": {},
   "outputs": [
    {
     "name": "stdout",
     "output_type": "stream",
     "text": [
      "3\n",
      "3\n",
      "3\n",
      "4\n",
      "2\n",
      "2\n",
      "2\n"
     ]
    }
   ],
   "source": [
    "import time\n",
    "\n",
    "cached = {}\n",
    "\n",
    "def mysum2(x, y):\n",
    "    key = (x, y)\n",
    "    if key not in cached:\n",
    "        time.sleep(1)\n",
    "        cached[key] = x + y\n",
    "    return cached[key]\n",
    "\n",
    "cached2 = {}\n",
    "\n",
    "def mymultiply(x, y):\n",
    "    key = (x, y)\n",
    "    if key not in cached2:\n",
    "        time.sleep(1)\n",
    "        cached2[key] = x * y\n",
    "    return cached2[key]\n",
    "\n",
    "print(mysum2(1, 2))\n",
    "print(mysum2(1, 2))\n",
    "print(mysum2(1, 2))\n",
    "\n",
    "print(mysum2(1, 3))\n",
    "\n",
    "print(mymultiply(1, 2))\n",
    "print(mymultiply(1, 2))\n",
    "print(mymultiply(1, 2))"
   ]
  },
  {
   "cell_type": "markdown",
   "metadata": {},
   "source": [
    "장식자 문법으로 깔끔하게 만들어봅시다."
   ]
  },
  {
   "cell_type": "code",
   "execution_count": 57,
   "metadata": {},
   "outputs": [
    {
     "name": "stdout",
     "output_type": "stream",
     "text": [
      "3\n",
      "3\n",
      "3\n",
      "4\n",
      "2\n",
      "2\n",
      "2\n"
     ]
    }
   ],
   "source": [
    "import time\n",
    "\n",
    "def memoize(fn):\n",
    "    cached = {}\n",
    "    def wrap(x, y):\n",
    "        key = (x, y)\n",
    "        if key not in cached:\n",
    "            cached[key] = fn(x, y)\n",
    "        return cached[key]\n",
    "    return wrap\n",
    "\n",
    "@memoize\n",
    "def mysum2(x, y):\n",
    "    time.sleep(1)\n",
    "    return x + y\n",
    "# mysum2 = memoize(mysum2)\n",
    "\n",
    "@memoize\n",
    "def mymultiply(x, y):\n",
    "    time.sleep(1)\n",
    "    return x * y\n",
    "# mymultiply = memoize(mymultiply)\n",
    "\n",
    "print(mysum2(1, 2))\n",
    "print(mysum2(1, 2))\n",
    "print(mysum2(1, 2))\n",
    "\n",
    "print(mysum2(1, 3))\n",
    "\n",
    "print(mymultiply(1, 2))\n",
    "print(mymultiply(1, 2))\n",
    "print(mymultiply(1, 2))"
   ]
  },
  {
   "cell_type": "markdown",
   "metadata": {},
   "source": [
    "## 문자열 인코딩"
   ]
  },
  {
   "cell_type": "code",
   "execution_count": 59,
   "metadata": {},
   "outputs": [
    {
     "name": "stdout",
     "output_type": "stream",
     "text": [
      "<class 'str'>\n",
      "3\n"
     ]
    }
   ],
   "source": [
    "이름 = \"이진석\"  # 유니코드 문자열 (str 타입)\n",
    "\n",
    "print(type(이름))\n",
    "print(len(이름))"
   ]
  },
  {
   "cell_type": "code",
   "execution_count": 67,
   "metadata": {},
   "outputs": [
    {
     "name": "stdout",
     "output_type": "stream",
     "text": [
      "<class 'bytes'> 9\n",
      "b'\\xec\\x9d\\xb4\\xec\\xa7\\x84\\xec\\x84\\x9d'\n"
     ]
    },
    {
     "ename": "UnicodeDecodeError",
     "evalue": "'cp949' codec can't decode byte 0xec in position 0: illegal multibyte sequence",
     "output_type": "error",
     "traceback": [
      "\u001b[0;31m---------------------------------------------------------------------------\u001b[0m",
      "\u001b[0;31mUnicodeDecodeError\u001b[0m                        Traceback (most recent call last)",
      "\u001b[0;32m<ipython-input-67-59170b5a41c7>\u001b[0m in \u001b[0;36m<module>\u001b[0;34m()\u001b[0m\n\u001b[1;32m      3\u001b[0m \u001b[0mprint\u001b[0m\u001b[0;34m(\u001b[0m\u001b[0mutf8_bytes\u001b[0m\u001b[0;34m)\u001b[0m\u001b[0;34m\u001b[0m\u001b[0m\n\u001b[1;32m      4\u001b[0m \u001b[0;34m\u001b[0m\u001b[0m\n\u001b[0;32m----> 5\u001b[0;31m \u001b[0mutf8_bytes\u001b[0m\u001b[0;34m.\u001b[0m\u001b[0mdecode\u001b[0m\u001b[0;34m(\u001b[0m\u001b[0;34m'cp949'\u001b[0m\u001b[0;34m)\u001b[0m\u001b[0;34m\u001b[0m\u001b[0m\n\u001b[0m",
      "\u001b[0;31mUnicodeDecodeError\u001b[0m: 'cp949' codec can't decode byte 0xec in position 0: illegal multibyte sequence"
     ]
    }
   ],
   "source": [
    "utf8_bytes = 이름.encode(\"utf8\")  # bytes 타입\n",
    "print(type(utf8_bytes), len(utf8_bytes))\n",
    "print(utf8_bytes)\n",
    "\n",
    "utf8_bytes.decode('cp949')"
   ]
  },
  {
   "cell_type": "code",
   "execution_count": 65,
   "metadata": {},
   "outputs": [
    {
     "name": "stdout",
     "output_type": "stream",
     "text": [
      "<class 'bytes'> 6\n"
     ]
    },
    {
     "data": {
      "text/plain": [
       "b'\\xc0\\xcc\\xc1\\xf8\\xbc\\xae'"
      ]
     },
     "execution_count": 65,
     "metadata": {},
     "output_type": "execute_result"
    }
   ],
   "source": [
    "cp949_bytes = 이름.encode(\"cp949\")  # bytes 타입\n",
    "print(type(cp949_bytes), len(cp949_bytes))\n",
    "cp949_bytes"
   ]
  },
  {
   "cell_type": "code",
   "execution_count": null,
   "metadata": {},
   "outputs": [],
   "source": []
  },
  {
   "cell_type": "code",
   "execution_count": 71,
   "metadata": {},
   "outputs": [
    {
     "data": {
      "text/plain": [
       "'bc 가나다라마바사아자차타카파'"
      ]
     },
     "execution_count": 71,
     "metadata": {},
     "output_type": "execute_result"
    }
   ],
   "source": [
    "s = \"abc 가나다라마바사아자차타카파하\"\n",
    "s[1:-1]"
   ]
  },
  {
   "cell_type": "code",
   "execution_count": 78,
   "metadata": {},
   "outputs": [
    {
     "name": "stdout",
     "output_type": "stream",
     "text": [
      "0x3131\n",
      "0x3134\n",
      "0x314F\n",
      "0xAC00\n"
     ]
    }
   ],
   "source": [
    "print('0x%X' % ord(\"ㄱ\"))\n",
    "print('0x%X' % ord(\"ㅏ\"))\n",
    "print('0x%X' % ord(\"가\"))"
   ]
  },
  {
   "cell_type": "code",
   "execution_count": 79,
   "metadata": {},
   "outputs": [
    {
     "name": "stdout",
     "output_type": "stream",
     "text": [
      "b'\\xea\\xb0\\x80'\n",
      "b'\\xff\\xfe\\x00\\xac'\n",
      "b'\\xff\\xfe\\x00\\x00\\x00\\xac\\x00\\x00'\n",
      "b'\\xb0\\xa1'\n"
     ]
    }
   ],
   "source": [
    "print(\"가\".encode(\"utf8\"))\n",
    "print(\"가\".encode(\"utf16\"))\n",
    "print(\"가\".encode(\"utf32\"))\n",
    "print(\"가\".encode(\"cp949\"))"
   ]
  },
  {
   "cell_type": "markdown",
   "metadata": {},
   "source": [
    "## 파일 I/O"
   ]
  },
  {
   "cell_type": "code",
   "execution_count": 85,
   "metadata": {},
   "outputs": [],
   "source": [
    "# file mode : write + binary\n",
    "f = open(\"파일01.txt\", \"wb\")\n",
    "f.write(\"한글\\n\".encode(\"utf8\"))\n",
    "f.write(\"파이썬\\n\".encode(\"utf8\"))\n",
    "f.write(\"장고\\n\".encode(\"utf8\"))\n",
    "f.write(\"크롤링\".encode(\"utf8\"))\n",
    "f.close()"
   ]
  },
  {
   "cell_type": "code",
   "execution_count": 88,
   "metadata": {},
   "outputs": [],
   "source": [
    "# file mode : write + text\n",
    "f = open(\"파일01.txt\", \"wt\", encoding='utf8')\n",
    "f.write(\"한글\\n\")\n",
    "f.write(\"파이썬\\n\")\n",
    "f.write(\"장고\\n\")\n",
    "f.write(\"크롤링\")\n",
    "f.close()"
   ]
  },
  {
   "cell_type": "code",
   "execution_count": 93,
   "metadata": {},
   "outputs": [
    {
     "name": "stdout",
     "output_type": "stream",
     "text": [
      "33 bytes readed.\n",
      "b'\\xed\\x95\\x9c\\xea\\xb8\\x80\\n\\xed\\x8c\\x8c\\xec\\x9d\\xb4\\xec\\x8d\\xac\\n\\xec\\x9e\\xa5\\xea\\xb3\\xa0\\n\\xed\\x81\\xac\\xeb\\xa1\\xa4\\xeb\\xa7\\x81'\n",
      "한글\n",
      "파이썬\n",
      "장고\n",
      "크롤링\n"
     ]
    }
   ],
   "source": [
    "f = open(\"파일01.txt\", \"rb\")\n",
    "readed = f.read()\n",
    "print('{} bytes readed.'.format(len(readed)))\n",
    "print(readed)   # 한 방에 다 읽습니다.\n",
    "f.close()\n",
    "\n",
    "print(readed.decode('utf8'))"
   ]
  },
  {
   "cell_type": "code",
   "execution_count": 92,
   "metadata": {},
   "outputs": [
    {
     "name": "stdout",
     "output_type": "stream",
     "text": [
      "13 글자 readed.\n",
      "한글\n",
      "파이썬\n",
      "장고\n",
      "크롤링\n"
     ]
    }
   ],
   "source": [
    "f = open(\"파일01.txt\", \"rt\", encoding='utf8')\n",
    "readed = f.read()\n",
    "print('{} 글자 readed.'.format(len(readed)))\n",
    "print(readed)   # 한 방에 다 읽습니다.\n",
    "f.close()"
   ]
  },
  {
   "cell_type": "code",
   "execution_count": null,
   "metadata": {},
   "outputs": [],
   "source": []
  },
  {
   "cell_type": "code",
   "execution_count": null,
   "metadata": {},
   "outputs": [],
   "source": []
  },
  {
   "cell_type": "code",
   "execution_count": null,
   "metadata": {},
   "outputs": [],
   "source": []
  },
  {
   "cell_type": "code",
   "execution_count": null,
   "metadata": {},
   "outputs": [],
   "source": []
  }
 ],
 "metadata": {
  "kernelspec": {
   "display_name": "Python 3",
   "language": "python",
   "name": "python3"
  },
  "language_info": {
   "codemirror_mode": {
    "name": "ipython",
    "version": 3
   },
   "file_extension": ".py",
   "mimetype": "text/x-python",
   "name": "python",
   "nbconvert_exporter": "python",
   "pygments_lexer": "ipython3",
   "version": "3.7.0"
  }
 },
 "nbformat": 4,
 "nbformat_minor": 2
}
