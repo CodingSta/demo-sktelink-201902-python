{
 "cells": [
  {
   "cell_type": "markdown",
   "metadata": {},
   "source": [
    "## 크롤링"
   ]
  },
  {
   "cell_type": "markdown",
   "metadata": {},
   "source": [
    "네이버 실검 크롤링"
   ]
  },
  {
   "cell_type": "code",
   "execution_count": 2,
   "metadata": {},
   "outputs": [],
   "source": [
    "import requests\n",
    "\n",
    "res = requests.get(\"http://naver.com\")  # 요청에 대한 응답을 받습니다.\n",
    "html = res.text  # 응답내용(문자열)을 html 변수에 저장"
   ]
  },
  {
   "cell_type": "code",
   "execution_count": 3,
   "metadata": {},
   "outputs": [
    {
     "data": {
      "text/plain": [
       "164595"
      ]
     },
     "execution_count": 3,
     "metadata": {},
     "output_type": "execute_result"
    }
   ],
   "source": [
    "len(html)"
   ]
  },
  {
   "cell_type": "code",
   "execution_count": 5,
   "metadata": {},
   "outputs": [],
   "source": [
    "from bs4 import BeautifulSoup\n",
    "\n",
    "soup = BeautifulSoup(html, 'html.parser')"
   ]
  },
  {
   "cell_type": "code",
   "execution_count": 10,
   "metadata": {},
   "outputs": [
    {
     "data": {
      "text/plain": [
       "20"
      ]
     },
     "execution_count": 10,
     "metadata": {},
     "output_type": "execute_result"
    }
   ],
   "source": [
    "tag_list = soup.select('.PM_CL_realtimeKeyword_rolling .ah_k')\n",
    "len(tag_list)"
   ]
  },
  {
   "cell_type": "code",
   "execution_count": 12,
   "metadata": {},
   "outputs": [
    {
     "data": {
      "text/plain": [
       "bs4.element.Tag"
      ]
     },
     "execution_count": 12,
     "metadata": {},
     "output_type": "execute_result"
    }
   ],
   "source": [
    "type(tag_list[0])"
   ]
  },
  {
   "cell_type": "code",
   "execution_count": 13,
   "metadata": {},
   "outputs": [
    {
     "data": {
      "text/plain": [
       "'류지혜'"
      ]
     },
     "execution_count": 13,
     "metadata": {},
     "output_type": "execute_result"
    }
   ],
   "source": [
    "tag_list[0].text"
   ]
  },
  {
   "cell_type": "code",
   "execution_count": 16,
   "metadata": {
    "collapsed": true
   },
   "outputs": [
    {
     "name": "stdout",
     "output_type": "stream",
     "text": [
      "1 류지혜\n",
      "2 이영호\n",
      "3 신동욱\n",
      "4 위대한 개츠비\n",
      "5 탤런트 신동욱\n",
      "6 괄도네넴띤\n",
      "7 배우신동욱\n",
      "8 김준교\n",
      "9 맨유 첼시\n",
      "10 서갑숙\n",
      "11 문제적남자\n",
      "12 카더가든\n",
      "13 부럼\n",
      "14 슬리피\n",
      "15 늑대소년\n",
      "16 이장원\n",
      "17 대구 화재\n",
      "18 우수\n",
      "19 김은경\n",
      "20 비비\n"
     ]
    }
   ],
   "source": [
    "rank = 1\n",
    "for tag in tag_list:\n",
    "    print(rank, tag.text)\n",
    "    rank += 1"
   ]
  },
  {
   "cell_type": "raw",
   "metadata": {},
   "source": []
  },
  {
   "cell_type": "code",
   "execution_count": 18,
   "metadata": {},
   "outputs": [],
   "source": [
    "import requests\n",
    "from bs4 import BeautifulSoup\n",
    "\n",
    "def 네이버_실검():\n",
    "    url = \"http://naver.com\"\n",
    "\n",
    "    res = requests.get(url)\n",
    "    html = res.text\n",
    "    soup = BeautifulSoup(html, 'html.parser')\n",
    "    tag_list = soup.select('.PM_CL_realtimeKeyword_rolling .ah_k')\n",
    "\n",
    "    keyword_list = []\n",
    "    for tag in tag_list:\n",
    "        keyword_list.append(tag.text)\n",
    "    \n",
    "    return keyword_list"
   ]
  },
  {
   "cell_type": "code",
   "execution_count": 24,
   "metadata": {},
   "outputs": [
    {
     "name": "stdout",
     "output_type": "stream",
     "text": [
      "1 류지혜\n",
      "2 이영호\n",
      "3 위대한 개츠비\n",
      "4 괄도네넴띤\n",
      "5 늑대소년\n",
      "6 서갑숙\n",
      "7 쿵푸허슬\n",
      "8 맨유 첼시\n",
      "9 대구 화재\n",
      "10 김준교\n",
      "11 김은경\n",
      "12 카더가든\n",
      "13 부럼\n",
      "14 신동욱\n",
      "15 우수\n",
      "16 문제적남자\n",
      "17 정우영\n",
      "18 팔도비빔면\n",
      "19 첼시 맨유\n",
      "20 오트밀\n"
     ]
    }
   ],
   "source": [
    "line_list = []\n",
    "rank = 1\n",
    "for keyword in 네이버_실검():\n",
    "    line = '{} {}'.format(rank, keyword)\n",
    "    line_list.append(line)\n",
    "    rank += 1\n",
    "\n",
    "response = \"\\n\".join(line_list)\n",
    "print(response)"
   ]
  },
  {
   "cell_type": "markdown",
   "metadata": {},
   "source": [
    "### 네이버 블로그 검색"
   ]
  },
  {
   "cell_type": "code",
   "execution_count": 32,
   "metadata": {},
   "outputs": [],
   "source": [
    "import requests\n",
    "from bs4 import BeautifulSoup\n",
    "\n",
    "url = \"https://search.naver.com/search.naver\"\n",
    "params = {\n",
    "    'where': 'post',\n",
    "    'sm': 'tab_jum',\n",
    "    'query': 'SK텔링크',\n",
    "}\n",
    "\n",
    "res = requests.get(url, params=params)\n",
    "html = res.text"
   ]
  },
  {
   "cell_type": "code",
   "execution_count": 33,
   "metadata": {},
   "outputs": [
    {
     "data": {
      "text/plain": [
       "10"
      ]
     },
     "execution_count": 33,
     "metadata": {},
     "output_type": "execute_result"
    }
   ],
   "source": [
    "soup = BeautifulSoup(html, 'html.parser')\n",
    "tag_list = soup.select('.sh_blog_title')\n",
    "len(tag_list)"
   ]
  },
  {
   "cell_type": "code",
   "execution_count": 34,
   "metadata": {},
   "outputs": [
    {
     "name": "stdout",
     "output_type": "stream",
     "text": [
      "SK텔링크, 어르신 특화기능 담긴 ‘LG X2’ 스마트폰 선봬 https://blog.naver.com/online_mo?Redirect=Log&logNo=221469308523\n",
      "[대전 공신폰] SK텔링크 갤럭시J2 PRO 무약정 판매 공부의신폰 할부원금 0원 공짜폰 무약정 판매 둔산동 민트통신 https://blog.naver.com/mintmobile?Redirect=Log&logNo=221469371092\n",
      "SK텔링크, 어르신 특화폰 '효도의 신' 2탄 출시[광주 전남 SKT KT LG유플러스 대리점 보다 저렴한 광주 핸드폰 할인 매장] https://blog.naver.com/0205008?Redirect=Log&logNo=221469054551\n",
      "SK텔링크, 애플 아이폰 3GS 재판매해, http://mintitstory.kro.kr/221300473892\n",
      "[SK텔링크]삼성 갤럭시 폴더2 (SM-G160S) https://blog.naver.com/oksk0902?Redirect=Log&logNo=221466502949\n",
      "기업전화 믿고 이용하는 SK텔링크! https://blog.naver.com/boulowbow?Redirect=Log&logNo=221338859284\n",
      "[소개] 무로 팩스 수/발신 앱 SK텔링크 모바일 팩스 https://pc0407.blog.me/221419094540\n",
      "인터넷전화 SK텔링크로 가즈아 https://blog.naver.com/onsite97?Redirect=Log&logNo=221322501703\n",
      "sk 텔링크 키즈 초등 중 학생 폰 추천 공부의신 공신폰 4 https://blog.naver.com/doubles_1120?Redirect=Log&logNo=221465876342\n",
      "SK 텔링크 아이폰3GS 출시에 관하여 https://ryueyes11.tistory.com/12219\n"
     ]
    }
   ],
   "source": [
    "for tag in tag_list:\n",
    "    post_url = tag['href']\n",
    "    post_title = tag['title']\n",
    "    print(post_title, post_url)"
   ]
  },
  {
   "cell_type": "code",
   "execution_count": 39,
   "metadata": {},
   "outputs": [],
   "source": [
    "import requests\n",
    "from bs4 import BeautifulSoup\n",
    "\n",
    "def 네이버_블로그_검색(검색어):\n",
    "    url = \"https://search.naver.com/search.naver\"\n",
    "    params = {\n",
    "        'where': 'post',\n",
    "        'sm': 'tab_jum',\n",
    "        'query': 검색어,\n",
    "    }\n",
    "\n",
    "    res = requests.get(url, params=params)\n",
    "    html = res.text\n",
    "    soup = BeautifulSoup(html, 'html.parser')\n",
    "    tag_list = soup.select('.sh_blog_title')\n",
    "\n",
    "    post_list = []\n",
    "    for tag in tag_list:\n",
    "        post_url = tag['href']\n",
    "        post_title = tag['title']\n",
    "        post_list.append({\n",
    "            'title': post_title,\n",
    "            'url': post_url,\n",
    "        })\n",
    "    \n",
    "    return post_list"
   ]
  },
  {
   "cell_type": "code",
   "execution_count": 40,
   "metadata": {},
   "outputs": [
    {
     "data": {
      "text/plain": [
       "[{'title': 'SK텔링크, 어르신 특화기능 담긴 ‘LG X2’ 스마트폰 선봬',\n",
       "  'url': 'https://blog.naver.com/online_mo?Redirect=Log&logNo=221469308523'},\n",
       " {'title': '[대전 공신폰] SK텔링크 갤럭시J2 PRO 무약정 판매 공부의신폰 할부원금 0원 공짜폰 무약정 판매 둔산동 민트통신',\n",
       "  'url': 'https://blog.naver.com/mintmobile?Redirect=Log&logNo=221469371092'},\n",
       " {'title': \"SK텔링크, 어르신 특화폰 '효도의 신' 2탄 출시[광주 전남 SKT KT LG유플러스 대리점 보다 저렴한 광주 핸드폰 할인 매장]\",\n",
       "  'url': 'https://blog.naver.com/0205008?Redirect=Log&logNo=221469054551'},\n",
       " {'title': 'SK텔링크, 애플 아이폰 3GS 재판매해,',\n",
       "  'url': 'http://mintitstory.kro.kr/221300473892'},\n",
       " {'title': '[SK텔링크]삼성 갤럭시 폴더2 (SM-G160S)',\n",
       "  'url': 'https://blog.naver.com/oksk0902?Redirect=Log&logNo=221466502949'},\n",
       " {'title': '기업전화 믿고 이용하는 SK텔링크!',\n",
       "  'url': 'https://blog.naver.com/boulowbow?Redirect=Log&logNo=221338859284'},\n",
       " {'title': '[소개] 무로 팩스 수/발신 앱 SK텔링크 모바일 팩스',\n",
       "  'url': 'https://pc0407.blog.me/221419094540'},\n",
       " {'title': '인터넷전화 SK텔링크로 가즈아',\n",
       "  'url': 'https://blog.naver.com/onsite97?Redirect=Log&logNo=221322501703'},\n",
       " {'title': 'sk 텔링크 키즈 초등 중 학생 폰 추천 공부의신 공신폰 4',\n",
       "  'url': 'https://blog.naver.com/doubles_1120?Redirect=Log&logNo=221465876342'},\n",
       " {'title': 'SK 텔링크 아이폰3GS 출시에 관하여',\n",
       "  'url': 'https://ryueyes11.tistory.com/12219'}]"
      ]
     },
     "execution_count": 40,
     "metadata": {},
     "output_type": "execute_result"
    }
   ],
   "source": [
    "네이버_블로그_검색('SK텔링크')"
   ]
  },
  {
   "cell_type": "code",
   "execution_count": null,
   "metadata": {},
   "outputs": [],
   "source": []
  },
  {
   "cell_type": "code",
   "execution_count": null,
   "metadata": {},
   "outputs": [],
   "source": []
  },
  {
   "cell_type": "code",
   "execution_count": null,
   "metadata": {},
   "outputs": [],
   "source": []
  }
 ],
 "metadata": {
  "kernelspec": {
   "display_name": "Python 3",
   "language": "python",
   "name": "python3"
  },
  "language_info": {
   "codemirror_mode": {
    "name": "ipython",
    "version": 3
   },
   "file_extension": ".py",
   "mimetype": "text/x-python",
   "name": "python",
   "nbconvert_exporter": "python",
   "pygments_lexer": "ipython3",
   "version": "3.7.0"
  }
 },
 "nbformat": 4,
 "nbformat_minor": 2
}
