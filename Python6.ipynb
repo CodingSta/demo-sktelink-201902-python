{
 "cells": [
  {
   "cell_type": "markdown",
   "metadata": {},
   "source": [
    "가수별 곡수 구하기"
   ]
  },
  {
   "cell_type": "code",
   "execution_count": 1,
   "metadata": {},
   "outputs": [],
   "source": [
    "# 1) 데이터를 로컬에 다운받아, 멜론_TOP100.csv 파일로 저장\n",
    "import requests\n",
    "\n",
    "res = requests.get(\"https://goo.gl/iDUKrL\")\n",
    "with open(\"멜론_TOP100.csv\", \"wt\", encoding=\"utf8\") as f:\n",
    "    f.write(res.text)\n",
    "\n",
    "# 2) 로컬의 CSV 데이터를 리스트(내부 dict)구조로 획득\n",
    "import csv\n",
    "\n",
    "with open(\"멜론_TOP100.csv\", \"rt\", encoding=\"utf8\") as f:\n",
    "    reader = csv.DictReader(f)\n",
    "    멜론_top100_리스트 = list(reader)"
   ]
  },
  {
   "cell_type": "code",
   "execution_count": 2,
   "metadata": {},
   "outputs": [
    {
     "data": {
      "text/plain": [
       "100"
      ]
     },
     "execution_count": 2,
     "metadata": {},
     "output_type": "execute_result"
    }
   ],
   "source": [
    "len(멜론_top100_리스트)"
   ]
  },
  {
   "cell_type": "markdown",
   "metadata": {},
   "source": [
    "지정 경로에 엑셀파일을 생성합니다."
   ]
  },
  {
   "cell_type": "code",
   "execution_count": 3,
   "metadata": {},
   "outputs": [],
   "source": [
    "import pandas as pd\n",
    "\n",
    "df = pd.DataFrame(멜론_top100_리스트)\n",
    "df.to_excel('멜론_top100_리스트.xlsx')"
   ]
  },
  {
   "cell_type": "markdown",
   "metadata": {},
   "source": [
    "\"가수별 곡수\"를 저장하기에 어떤 자료구조가 좋을까?"
   ]
  },
  {
   "cell_type": "code",
   "execution_count": null,
   "metadata": {},
   "outputs": [],
   "source": [
    "{\n",
    "    '방탄소년단': 14,\n",
    "    '아이유': 2,\n",
    "}"
   ]
  },
  {
   "cell_type": "code",
   "execution_count": 8,
   "metadata": {},
   "outputs": [
    {
     "data": {
      "text/plain": [
       "'EXO'"
      ]
     },
     "execution_count": 8,
     "metadata": {},
     "output_type": "execute_result"
    }
   ],
   "source": [
    "멜론_top100_리스트[99]['가수']"
   ]
  },
  {
   "cell_type": "code",
   "execution_count": 33,
   "metadata": {
    "collapsed": true
   },
   "outputs": [
    {
     "name": "stdout",
     "output_type": "stream",
     "text": [
      "57\n"
     ]
    },
    {
     "data": {
      "text/plain": [
       "{'아이유': 2,\n",
       " '로꼬': 2,\n",
       " 'pH-1': 1,\n",
       " '임창정': 1,\n",
       " '방탄소년단': 14,\n",
       " 'iKON': 3,\n",
       " 'Coogie': 1,\n",
       " '로이킴': 2,\n",
       " '바이브': 2,\n",
       " '펀치 (Punch)': 1,\n",
       " '폴킴': 2,\n",
       " '백현 (BAEKHYUN)': 1,\n",
       " '선미': 1,\n",
       " '벤': 1,\n",
       " '숀 (SHAUN)': 1,\n",
       " 'EXO': 3,\n",
       " '찬열': 1,\n",
       " '기리보이': 1,\n",
       " 'EXO-CBX (첸백시)': 1,\n",
       " '저스디스 (JUSTHIS)': 1,\n",
       " '레이 (LAY)': 1,\n",
       " 'BLACKPINK': 2,\n",
       " '닐로 (Nilo)': 2,\n",
       " 'TWICE (트와이스)': 2,\n",
       " '박원': 1,\n",
       " 'Wanna One (워너원)': 5,\n",
       " 'Red Velvet (레드벨벳)': 1,\n",
       " '임한별': 1,\n",
       " '볼빨간사춘기': 1,\n",
       " 'Wanna One (워너원) - 트리플포지션': 1,\n",
       " '마마무(Mamamoo)': 2,\n",
       " '양다일': 1,\n",
       " '먼데이 키즈 (Monday Kiz)': 1,\n",
       " '비투비': 2,\n",
       " '멜로망스': 4,\n",
       " '승리': 1,\n",
       " 'Apink (에이핑크)': 1,\n",
       " '지코 (ZICO)': 1,\n",
       " '세븐틴': 2,\n",
       " '장덕철': 1,\n",
       " 'Wanna One (워너원) - 더힐': 1,\n",
       " '10cm': 2,\n",
       " 'nafla': 1,\n",
       " '(여자)아이들': 1,\n",
       " '뉴이스트 W': 8,\n",
       " '김효은': 1,\n",
       " '모트 (Motte)': 1,\n",
       " '이수 (엠씨 더 맥스)': 1,\n",
       " 'Wanna One (워너원) - 린온미': 1,\n",
       " '용준형': 1,\n",
       " 'Wanna One (워너원) - 남바완': 1,\n",
       " 'NU`EST': 1,\n",
       " '정승환': 1,\n",
       " 'Fitz & The Tantrums': 1,\n",
       " '여자친구 (GFRIEND)': 1,\n",
       " '청하': 1,\n",
       " '소녀시대-Oh!GG': 1}"
      ]
     },
     "execution_count": 33,
     "metadata": {},
     "output_type": "execute_result"
    }
   ],
   "source": [
    "가수별_곡수 = {}\n",
    "\n",
    "# 가수별로 값을 0으로 초기화를 모두 하고 나서,\n",
    "for 곡 in 멜론_top100_리스트:\n",
    "    가수 = 곡['가수']\n",
    "    가수별_곡수[가수] = 0\n",
    "\n",
    "# 각 가수별로 카운트를 할 수 있습니다.\n",
    "for 곡 in 멜론_top100_리스트:\n",
    "    가수 = 곡['가수']\n",
    "    가수별_곡수[가수] += 1\n",
    "\n",
    "print(len(가수별_곡수))  # 총 가수의 수\n",
    "가수별_곡수"
   ]
  },
  {
   "cell_type": "code",
   "execution_count": null,
   "metadata": {},
   "outputs": [],
   "source": []
  },
  {
   "cell_type": "code",
   "execution_count": 16,
   "metadata": {},
   "outputs": [],
   "source": [
    "이번_달에_먹은_메뉴들 = [\n",
    "    '김치찌개', '볶음밥', '라면', '김밥', '짜장면',\n",
    "    '볶음밥', '라면', '볶음밥', '김치찌개', '볶음밥',\n",
    "]"
   ]
  },
  {
   "cell_type": "code",
   "execution_count": 32,
   "metadata": {},
   "outputs": [
    {
     "data": {
      "text/plain": [
       "{'김치찌개': 2, '볶음밥': 4, '라면': 2, '김밥': 1, '짜장면': 1}"
      ]
     },
     "execution_count": 32,
     "metadata": {},
     "output_type": "execute_result"
    }
   ],
   "source": [
    "메뉴_카운트_사전 = {}\n",
    "\n",
    "for 메뉴명 in 이번_달에_먹은_메뉴들:\n",
    "    메뉴_카운트_사전[메뉴명] = 0\n",
    "\n",
    "for 메뉴명 in 이번_달에_먹은_메뉴들:\n",
    "    메뉴_카운트_사전[메뉴명] += 1\n",
    "    \n",
    "메뉴_카운트_사전"
   ]
  },
  {
   "cell_type": "code",
   "execution_count": null,
   "metadata": {},
   "outputs": [],
   "source": []
  },
  {
   "cell_type": "code",
   "execution_count": 40,
   "metadata": {},
   "outputs": [
    {
     "data": {
      "text/plain": [
       "[51, 44, 22, 10, 83, 23]"
      ]
     },
     "execution_count": 40,
     "metadata": {},
     "output_type": "execute_result"
    }
   ],
   "source": [
    "import random\n",
    "\n",
    "랜덤_숫자_리스트 = random.sample(range(100), 10)\n",
    "랜덤_숫자_리스트"
   ]
  },
  {
   "cell_type": "code",
   "execution_count": null,
   "metadata": {},
   "outputs": [],
   "source": [
    "숫자 = 51\n",
    "key = 숫자 % 10"
   ]
  },
  {
   "cell_type": "code",
   "execution_count": null,
   "metadata": {},
   "outputs": [],
   "source": [
    "# 일의 숫자를 기준으로 해서, 그룹핑한 숫자들의 합 => 사전\n",
    "\n",
    "{\n",
    "    0: 10,\n",
    "    2: 22,\n",
    "    3: 106,\n",
    "    4: 44,\n",
    "    1: 51,\n",
    "}"
   ]
  },
  {
   "cell_type": "code",
   "execution_count": 43,
   "metadata": {},
   "outputs": [
    {
     "data": {
      "text/plain": [
       "{8: 156, 1: 122, 7: 77, 5: 90, 2: 32, 3: 3, 4: 94}"
      ]
     },
     "execution_count": 43,
     "metadata": {},
     "output_type": "execute_result"
    }
   ],
   "source": [
    "랜덤_숫자_리스트 = random.sample(range(100), 10)\n",
    "# 랜덤_숫자_리스트\n",
    "\n",
    "숫자_1의자리수_그룹의_합_사전 = {}\n",
    "\n",
    "for 숫자 in 랜덤_숫자_리스트:\n",
    "    key = 숫자 % 10\n",
    "    숫자_1의자리수_그룹의_합_사전[key] = 0\n",
    "\n",
    "for 숫자 in 랜덤_숫자_리스트:\n",
    "    key = 숫자 % 10\n",
    "    숫자_1의자리수_그룹의_합_사전[key] += 숫자\n",
    "    \n",
    "숫자_1의자리수_그룹의_합_사전"
   ]
  },
  {
   "cell_type": "code",
   "execution_count": 44,
   "metadata": {},
   "outputs": [
    {
     "data": {
      "text/plain": [
       "{6: [86, 66], 7: [37, 27], 2: [92], 0: [40], 1: [61], 8: [48, 98], 9: [29]}"
      ]
     },
     "execution_count": 44,
     "metadata": {},
     "output_type": "execute_result"
    }
   ],
   "source": [
    "랜덤_숫자_리스트 = random.sample(range(100), 10)\n",
    "# 랜덤_숫자_리스트\n",
    "\n",
    "숫자_1의자리수_그룹의_합_사전 = {}  # FIXME: 이름은 바꿀 필요가 있겠어요.\n",
    "\n",
    "for 숫자 in 랜덤_숫자_리스트:\n",
    "    key = 숫자 % 10\n",
    "    숫자_1의자리수_그룹의_합_사전[key] = []\n",
    "\n",
    "for 숫자 in 랜덤_숫자_리스트:\n",
    "    key = 숫자 % 10\n",
    "    숫자_1의자리수_그룹의_합_사전[key].append(숫자)\n",
    "    \n",
    "숫자_1의자리수_그룹의_합_사전"
   ]
  },
  {
   "cell_type": "code",
   "execution_count": 47,
   "metadata": {},
   "outputs": [
    {
     "data": {
      "text/plain": [
       "{0: {'횟수': 2, '누적': 70, '목록': [10, 60]},\n",
       " 8: {'횟수': 1, '누적': 28, '목록': [28]},\n",
       " 1: {'횟수': 4, '누적': 254, '목록': [61, 81, 21, 91]},\n",
       " 7: {'횟수': 1, '누적': 77, '목록': [77]},\n",
       " 9: {'횟수': 1, '누적': 39, '목록': [39]},\n",
       " 6: {'횟수': 1, '누적': 86, '목록': [86]}}"
      ]
     },
     "execution_count": 47,
     "metadata": {},
     "output_type": "execute_result"
    }
   ],
   "source": [
    "랜덤_숫자_리스트 = random.sample(range(100), 10)\n",
    "# 랜덤_숫자_리스트\n",
    "\n",
    "숫자_1의자리수_그룹의_합_사전 = {}  # FIXME: 이름은 바꿀 필요가 있겠어요.\n",
    "\n",
    "for 숫자 in 랜덤_숫자_리스트:\n",
    "    key = 숫자 % 10\n",
    "    숫자_1의자리수_그룹의_합_사전[key] = {\n",
    "        '횟수': 0, '누적': 0,\n",
    "        '목록': [],\n",
    "    }\n",
    "\n",
    "for 숫자 in 랜덤_숫자_리스트:\n",
    "    key = 숫자 % 10\n",
    "    숫자_1의자리수_그룹의_합_사전[key]['횟수'] += 1\n",
    "    숫자_1의자리수_그룹의_합_사전[key]['누적'] += 숫자\n",
    "    숫자_1의자리수_그룹의_합_사전[key]['목록'].append(숫자)\n",
    "    \n",
    "숫자_1의자리수_그룹의_합_사전"
   ]
  },
  {
   "cell_type": "code",
   "execution_count": null,
   "metadata": {},
   "outputs": [],
   "source": []
  },
  {
   "cell_type": "code",
   "execution_count": null,
   "metadata": {},
   "outputs": [],
   "source": []
  }
 ],
 "metadata": {
  "kernelspec": {
   "display_name": "Python 3",
   "language": "python",
   "name": "python3"
  },
  "language_info": {
   "codemirror_mode": {
    "name": "ipython",
    "version": 3
   },
   "file_extension": ".py",
   "mimetype": "text/x-python",
   "name": "python",
   "nbconvert_exporter": "python",
   "pygments_lexer": "ipython3",
   "version": "3.7.0"
  }
 },
 "nbformat": 4,
 "nbformat_minor": 2
}
